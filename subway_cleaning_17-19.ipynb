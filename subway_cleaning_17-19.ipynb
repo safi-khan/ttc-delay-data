{
 "cells": [
  {
   "cell_type": "code",
   "execution_count": 1,
   "metadata": {},
   "outputs": [],
   "source": [
    "#importing basic python Libraries for data science work \n",
    "import numpy as np\n",
    "import pandas as pd\n",
    "import matplotlib.pyplot as plt\n",
    "%matplotlib inline\n",
    "import seaborn as sns"
   ]
  },
  {
   "cell_type": "code",
   "execution_count": 2,
   "metadata": {},
   "outputs": [],
   "source": [
    "# initializing an array with all the file names in my system for the data\n",
    "file_path = ['jan17_apr17.xlsx','may_17.xlsx', 'june_17.xlsx', 'july_17.xlsx', 'aug_17.xlsx', 'sept_17.xlsx', 'oct_17.xlsx', 'nov_17.xlsx',\n",
    "             'dec_17.xlsx', 'jan_18.xlsx', 'feb_18.xlsx', 'march_18.xlsx', 'april_18.xlsx','may_18.xlsx', 'june_18.xlsx',\n",
    "             'july_18.xlsx', 'aug_18.xlsx', 'sept_18.xlsx', 'oct_18.xlsx', 'nov_18.xlsx', 'dec_18.xlsx', 'jan_19.xlsx', \n",
    "             'feb_19.xlsx', 'march_19.xlsx', 'april_19.xlsx', 'may_19.xlsx', 'june_19.xlsx', 'july_19.xlsx', 'aug_19.xlsx',\n",
    "             'sept_19.xlsx', 'oct_19.xlsx', 'nov_19.xlsx','dec_19.xlsx']\n",
    "\n",
    "\n",
    "\n",
    "\n",
    "#intializing an empty dataframe to append all files in the loop\n",
    "sub_delay = pd.DataFrame()\n",
    "\n",
    "#looping over all files to save them into sub_delay dataframe\n",
    "for f in file_path:\n",
    "\n",
    "    df = pd.read_excel(f)\n",
    "    sub_delay = pd.concat([sub_delay, df])"
   ]
  },
  {
   "cell_type": "code",
   "execution_count": 3,
   "metadata": {
    "scrolled": true
   },
   "outputs": [
    {
     "data": {
      "text/html": [
       "<div>\n",
       "<style scoped>\n",
       "    .dataframe tbody tr th:only-of-type {\n",
       "        vertical-align: middle;\n",
       "    }\n",
       "\n",
       "    .dataframe tbody tr th {\n",
       "        vertical-align: top;\n",
       "    }\n",
       "\n",
       "    .dataframe thead th {\n",
       "        text-align: right;\n",
       "    }\n",
       "</style>\n",
       "<table border=\"1\" class=\"dataframe\">\n",
       "  <thead>\n",
       "    <tr style=\"text-align: right;\">\n",
       "      <th></th>\n",
       "      <th>Date</th>\n",
       "      <th>Time</th>\n",
       "      <th>Day</th>\n",
       "      <th>Station</th>\n",
       "      <th>Code</th>\n",
       "      <th>Min Delay</th>\n",
       "      <th>Min Gap</th>\n",
       "      <th>Bound</th>\n",
       "      <th>Line</th>\n",
       "      <th>Vehicle</th>\n",
       "    </tr>\n",
       "  </thead>\n",
       "  <tbody>\n",
       "    <tr>\n",
       "      <th>0</th>\n",
       "      <td>2017-01-01</td>\n",
       "      <td>00:29</td>\n",
       "      <td>Sunday</td>\n",
       "      <td>KENNEDY BD STATION</td>\n",
       "      <td>MUSC</td>\n",
       "      <td>0</td>\n",
       "      <td>0</td>\n",
       "      <td>W</td>\n",
       "      <td>BD</td>\n",
       "      <td>5159</td>\n",
       "    </tr>\n",
       "    <tr>\n",
       "      <th>1</th>\n",
       "      <td>2017-01-01</td>\n",
       "      <td>01:35</td>\n",
       "      <td>Sunday</td>\n",
       "      <td>ISLINGTON STATION</td>\n",
       "      <td>MUSC</td>\n",
       "      <td>0</td>\n",
       "      <td>0</td>\n",
       "      <td>E</td>\n",
       "      <td>BD</td>\n",
       "      <td>5296</td>\n",
       "    </tr>\n",
       "    <tr>\n",
       "      <th>2</th>\n",
       "      <td>2017-01-01</td>\n",
       "      <td>03:00</td>\n",
       "      <td>Sunday</td>\n",
       "      <td>LAWRENCE STATION</td>\n",
       "      <td>EUDO</td>\n",
       "      <td>4</td>\n",
       "      <td>8</td>\n",
       "      <td>S</td>\n",
       "      <td>YU</td>\n",
       "      <td>6056</td>\n",
       "    </tr>\n",
       "    <tr>\n",
       "      <th>3</th>\n",
       "      <td>2017-01-01</td>\n",
       "      <td>04:06</td>\n",
       "      <td>Sunday</td>\n",
       "      <td>GREENWOOD YARD</td>\n",
       "      <td>SUUT</td>\n",
       "      <td>0</td>\n",
       "      <td>0</td>\n",
       "      <td>NaN</td>\n",
       "      <td>BD</td>\n",
       "      <td>0</td>\n",
       "    </tr>\n",
       "    <tr>\n",
       "      <th>4</th>\n",
       "      <td>2017-01-01</td>\n",
       "      <td>04:20</td>\n",
       "      <td>Sunday</td>\n",
       "      <td>YONGE SHP STATION</td>\n",
       "      <td>PUCSS</td>\n",
       "      <td>0</td>\n",
       "      <td>0</td>\n",
       "      <td>W</td>\n",
       "      <td>SHP</td>\n",
       "      <td>6171</td>\n",
       "    </tr>\n",
       "    <tr>\n",
       "      <th>...</th>\n",
       "      <td>...</td>\n",
       "      <td>...</td>\n",
       "      <td>...</td>\n",
       "      <td>...</td>\n",
       "      <td>...</td>\n",
       "      <td>...</td>\n",
       "      <td>...</td>\n",
       "      <td>...</td>\n",
       "      <td>...</td>\n",
       "      <td>...</td>\n",
       "    </tr>\n",
       "    <tr>\n",
       "      <th>1569</th>\n",
       "      <td>2019-12-31</td>\n",
       "      <td>22:54</td>\n",
       "      <td>Tuesday</td>\n",
       "      <td>FINCH STATION</td>\n",
       "      <td>SUAP</td>\n",
       "      <td>0</td>\n",
       "      <td>0</td>\n",
       "      <td>NaN</td>\n",
       "      <td>YU</td>\n",
       "      <td>0</td>\n",
       "    </tr>\n",
       "    <tr>\n",
       "      <th>1570</th>\n",
       "      <td>2019-12-31</td>\n",
       "      <td>23:09</td>\n",
       "      <td>Tuesday</td>\n",
       "      <td>SHERBOURNE STATION</td>\n",
       "      <td>EUBK</td>\n",
       "      <td>0</td>\n",
       "      <td>0</td>\n",
       "      <td>W</td>\n",
       "      <td>BD</td>\n",
       "      <td>5234</td>\n",
       "    </tr>\n",
       "    <tr>\n",
       "      <th>1571</th>\n",
       "      <td>2019-12-31</td>\n",
       "      <td>23:12</td>\n",
       "      <td>Tuesday</td>\n",
       "      <td>ST CLAIR WEST STATION</td>\n",
       "      <td>SUDP</td>\n",
       "      <td>0</td>\n",
       "      <td>0</td>\n",
       "      <td>NaN</td>\n",
       "      <td>YU</td>\n",
       "      <td>0</td>\n",
       "    </tr>\n",
       "    <tr>\n",
       "      <th>1572</th>\n",
       "      <td>2019-12-31</td>\n",
       "      <td>23:16</td>\n",
       "      <td>Tuesday</td>\n",
       "      <td>FINCH STATION</td>\n",
       "      <td>MUSC</td>\n",
       "      <td>0</td>\n",
       "      <td>0</td>\n",
       "      <td>S</td>\n",
       "      <td>YU</td>\n",
       "      <td>6066</td>\n",
       "    </tr>\n",
       "    <tr>\n",
       "      <th>1573</th>\n",
       "      <td>2019-12-31</td>\n",
       "      <td>23:32</td>\n",
       "      <td>Tuesday</td>\n",
       "      <td>KING STATION</td>\n",
       "      <td>MUIRS</td>\n",
       "      <td>0</td>\n",
       "      <td>0</td>\n",
       "      <td>S</td>\n",
       "      <td>YU</td>\n",
       "      <td>0</td>\n",
       "    </tr>\n",
       "  </tbody>\n",
       "</table>\n",
       "<p>58797 rows × 10 columns</p>\n",
       "</div>"
      ],
      "text/plain": [
       "           Date   Time      Day                Station   Code  Min Delay  \\\n",
       "0    2017-01-01  00:29   Sunday     KENNEDY BD STATION   MUSC          0   \n",
       "1    2017-01-01  01:35   Sunday      ISLINGTON STATION   MUSC          0   \n",
       "2    2017-01-01  03:00   Sunday       LAWRENCE STATION   EUDO          4   \n",
       "3    2017-01-01  04:06   Sunday         GREENWOOD YARD   SUUT          0   \n",
       "4    2017-01-01  04:20   Sunday      YONGE SHP STATION  PUCSS          0   \n",
       "...         ...    ...      ...                    ...    ...        ...   \n",
       "1569 2019-12-31  22:54  Tuesday          FINCH STATION   SUAP          0   \n",
       "1570 2019-12-31  23:09  Tuesday     SHERBOURNE STATION   EUBK          0   \n",
       "1571 2019-12-31  23:12  Tuesday  ST CLAIR WEST STATION   SUDP          0   \n",
       "1572 2019-12-31  23:16  Tuesday          FINCH STATION   MUSC          0   \n",
       "1573 2019-12-31  23:32  Tuesday           KING STATION  MUIRS          0   \n",
       "\n",
       "      Min Gap Bound Line  Vehicle  \n",
       "0           0     W   BD     5159  \n",
       "1           0     E   BD     5296  \n",
       "2           8     S   YU     6056  \n",
       "3           0   NaN   BD        0  \n",
       "4           0     W  SHP     6171  \n",
       "...       ...   ...  ...      ...  \n",
       "1569        0   NaN   YU        0  \n",
       "1570        0     W   BD     5234  \n",
       "1571        0   NaN   YU        0  \n",
       "1572        0     S   YU     6066  \n",
       "1573        0     S   YU        0  \n",
       "\n",
       "[58797 rows x 10 columns]"
      ]
     },
     "execution_count": 3,
     "metadata": {},
     "output_type": "execute_result"
    }
   ],
   "source": [
    "#sneak peak\n",
    "sub_delay"
   ]
  },
  {
   "cell_type": "code",
   "execution_count": 4,
   "metadata": {},
   "outputs": [],
   "source": [
    "#resetting index\n",
    "sub_delay.reset_index(inplace = True, drop = True)"
   ]
  },
  {
   "cell_type": "code",
   "execution_count": 5,
   "metadata": {},
   "outputs": [
    {
     "data": {
      "text/html": [
       "<div>\n",
       "<style scoped>\n",
       "    .dataframe tbody tr th:only-of-type {\n",
       "        vertical-align: middle;\n",
       "    }\n",
       "\n",
       "    .dataframe tbody tr th {\n",
       "        vertical-align: top;\n",
       "    }\n",
       "\n",
       "    .dataframe thead th {\n",
       "        text-align: right;\n",
       "    }\n",
       "</style>\n",
       "<table border=\"1\" class=\"dataframe\">\n",
       "  <thead>\n",
       "    <tr style=\"text-align: right;\">\n",
       "      <th></th>\n",
       "      <th>Min Delay</th>\n",
       "      <th>Min Gap</th>\n",
       "      <th>Vehicle</th>\n",
       "    </tr>\n",
       "  </thead>\n",
       "  <tbody>\n",
       "    <tr>\n",
       "      <th>count</th>\n",
       "      <td>58797.000000</td>\n",
       "      <td>58797.000000</td>\n",
       "      <td>58797.000000</td>\n",
       "    </tr>\n",
       "    <tr>\n",
       "      <th>mean</th>\n",
       "      <td>2.228600</td>\n",
       "      <td>3.273228</td>\n",
       "      <td>3992.353181</td>\n",
       "    </tr>\n",
       "    <tr>\n",
       "      <th>std</th>\n",
       "      <td>7.952464</td>\n",
       "      <td>8.442888</td>\n",
       "      <td>2448.711541</td>\n",
       "    </tr>\n",
       "    <tr>\n",
       "      <th>min</th>\n",
       "      <td>0.000000</td>\n",
       "      <td>0.000000</td>\n",
       "      <td>0.000000</td>\n",
       "    </tr>\n",
       "    <tr>\n",
       "      <th>25%</th>\n",
       "      <td>0.000000</td>\n",
       "      <td>0.000000</td>\n",
       "      <td>0.000000</td>\n",
       "    </tr>\n",
       "    <tr>\n",
       "      <th>50%</th>\n",
       "      <td>0.000000</td>\n",
       "      <td>0.000000</td>\n",
       "      <td>5230.000000</td>\n",
       "    </tr>\n",
       "    <tr>\n",
       "      <th>75%</th>\n",
       "      <td>3.000000</td>\n",
       "      <td>6.000000</td>\n",
       "      <td>5651.000000</td>\n",
       "    </tr>\n",
       "    <tr>\n",
       "      <th>max</th>\n",
       "      <td>515.000000</td>\n",
       "      <td>519.000000</td>\n",
       "      <td>72537.000000</td>\n",
       "    </tr>\n",
       "  </tbody>\n",
       "</table>\n",
       "</div>"
      ],
      "text/plain": [
       "          Min Delay       Min Gap       Vehicle\n",
       "count  58797.000000  58797.000000  58797.000000\n",
       "mean       2.228600      3.273228   3992.353181\n",
       "std        7.952464      8.442888   2448.711541\n",
       "min        0.000000      0.000000      0.000000\n",
       "25%        0.000000      0.000000      0.000000\n",
       "50%        0.000000      0.000000   5230.000000\n",
       "75%        3.000000      6.000000   5651.000000\n",
       "max      515.000000    519.000000  72537.000000"
      ]
     },
     "execution_count": 5,
     "metadata": {},
     "output_type": "execute_result"
    }
   ],
   "source": [
    "sub_delay.describe()"
   ]
  },
  {
   "cell_type": "code",
   "execution_count": 6,
   "metadata": {},
   "outputs": [
    {
     "name": "stdout",
     "output_type": "stream",
     "text": [
      "<class 'pandas.core.frame.DataFrame'>\n",
      "RangeIndex: 58797 entries, 0 to 58796\n",
      "Data columns (total 10 columns):\n",
      " #   Column     Non-Null Count  Dtype         \n",
      "---  ------     --------------  -----         \n",
      " 0   Date       58797 non-null  datetime64[ns]\n",
      " 1   Time       58797 non-null  object        \n",
      " 2   Day        58797 non-null  object        \n",
      " 3   Station    58797 non-null  object        \n",
      " 4   Code       58796 non-null  object        \n",
      " 5   Min Delay  58797 non-null  int64         \n",
      " 6   Min Gap    58797 non-null  int64         \n",
      " 7   Bound      45681 non-null  object        \n",
      " 8   Line       58606 non-null  object        \n",
      " 9   Vehicle    58797 non-null  int64         \n",
      "dtypes: datetime64[ns](1), int64(3), object(6)\n",
      "memory usage: 4.5+ MB\n"
     ]
    }
   ],
   "source": [
    "sub_delay.info()"
   ]
  },
  {
   "cell_type": "code",
   "execution_count": 7,
   "metadata": {},
   "outputs": [
    {
     "name": "stdout",
     "output_type": "stream",
     "text": [
      "Day \n",
      " Friday       9292\n",
      "Thursday     9280\n",
      "Wednesday    9205\n",
      "Monday       9179\n",
      "Tuesday      9158\n",
      "Saturday     6794\n",
      "Sunday       5889\n",
      "Name: Day, dtype: int64 \n",
      "\n",
      "Station \n",
      " KENNEDY BD STATION        2693\n",
      "KIPLING STATION           2607\n",
      "FINCH STATION             2229\n",
      "SHEPPARD WEST STATION     1591\n",
      "WILSON STATION            1451\n",
      "                          ... \n",
      "QUEEN'S QUAY ELEVATOR        1\n",
      "UNION STATION (APPROAC       1\n",
      "WILSON SOUTH HOSTLER         1\n",
      "SHEPPARD TO BAYVIEW          1\n",
      "LAWRENCE WEST TO EGLIN       1\n",
      "Name: Station, Length: 518, dtype: int64 \n",
      "\n",
      "Code \n",
      " MUSC     7611\n",
      "TUSC     5002\n",
      "MUIS     4839\n",
      "MUPAA    4237\n",
      "SUDP     2978\n",
      "         ... \n",
      "MUCSA       1\n",
      "STO         1\n",
      "MTO         1\n",
      "ERVE        1\n",
      "SRSP        1\n",
      "Name: Code, Length: 201, dtype: int64 \n",
      "\n",
      "Bound \n",
      " S    12557\n",
      "W    11334\n",
      "N    10913\n",
      "E    10859\n",
      "B       16\n",
      "5        1\n",
      "Y        1\n",
      "Name: Bound, dtype: int64 \n",
      "\n",
      "Line \n",
      " YU                        27485\n",
      "BD                        26109\n",
      "SRT                        2186\n",
      "SHP                        1754\n",
      "YU/BD                       918\n",
      "B/D                          62\n",
      "YU / BD                      25\n",
      "YU/ BD                       14\n",
      "YUS                           7\n",
      "999                           5\n",
      "YU - BD                       5\n",
      "BD/YU                         4\n",
      "BD LINE                       4\n",
      "YU-BD                         3\n",
      "11 BAYVIEW                    2\n",
      "YU LINE                       2\n",
      "16 MCCOWAN                    2\n",
      "BLOOR-DANFORTH                1\n",
      "YU & BD                       1\n",
      "32 EGLINTON WEST              1\n",
      "YONGE UNIVERSITY SERVI        1\n",
      "134 PROGRESS                  1\n",
      "510 SPADINA                   1\n",
      "100 FLEMINGDON PARK           1\n",
      "85 SHEPPARD EAST              1\n",
      "BLOOR DANFORTH LINES          1\n",
      "129 MCCOWAN NORTH             1\n",
      "YU BD                         1\n",
      "63 OSSINGTON                  1\n",
      "46 MARTIN GROVE               1\n",
      "YU - BD LINE                  1\n",
      "YU\\BD                         1\n",
      "985 SHEPPARD EAST EXPR        1\n",
      "RT                            1\n",
      "22 COXWELL                    1\n",
      "704 RAD BUS                   1\n",
      "Name: Line, dtype: int64 \n",
      "\n"
     ]
    }
   ],
   "source": [
    "#Analyzing text data\n",
    "columns = ['Day', 'Station', 'Code', 'Bound', 'Line']\n",
    "for col in columns:\n",
    "    print(col,  '\\n' ,sub_delay[col].value_counts(), '\\n')"
   ]
  },
  {
   "cell_type": "markdown",
   "metadata": {},
   "source": [
    "There seems to be a lot more stations, lines and directions than actual values. This is most likely result of a free-style text input where user spelling mistakes or abbreviations led to multiple enteries for similar data. This means the data is going to need some standardization and cleaning.  "
   ]
  },
  {
   "cell_type": "code",
   "execution_count": 8,
   "metadata": {},
   "outputs": [
    {
     "name": "stdout",
     "output_type": "stream",
     "text": [
      "Date (1094,)\n",
      "Time (1424,)\n",
      "Day (7,)\n",
      "Station (518,)\n",
      "Code (201,)\n",
      "Min Delay (138,)\n",
      "Min Gap (144,)\n",
      "Bound (7,)\n",
      "Line (36,)\n",
      "Vehicle (901,)\n"
     ]
    },
    {
     "data": {
      "text/plain": [
       "[None, None, None, None, None, None, None, None, None, None]"
      ]
     },
     "execution_count": 8,
     "metadata": {},
     "output_type": "execute_result"
    }
   ],
   "source": [
    "#Checking for original unique value counts\n",
    "\n",
    "[print(i,sub_delay[i].value_counts().shape) for i in sub_delay.columns]"
   ]
  },
  {
   "cell_type": "markdown",
   "metadata": {},
   "source": [
    "## Data Format Standardizing"
   ]
  },
  {
   "cell_type": "code",
   "execution_count": 9,
   "metadata": {},
   "outputs": [],
   "source": [
    "#Standardize column names\n",
    "sub_delay.columns = [i.replace(' ', '_').lower() for i in sub_delay.columns]"
   ]
  },
  {
   "cell_type": "code",
   "execution_count": 10,
   "metadata": {},
   "outputs": [],
   "source": [
    "# Standardize the column Columns data\n",
    "sub_delay['station'] = [i.replace(' ', '_').lower() for i in sub_delay['station']]\n",
    "\n",
    "sub_delay['station']= [i.replace('stn', 'station').lower() for i in sub_delay['station']]\n",
    "sub_delay['station'] = [i.replace('.', '').lower() for i in sub_delay['station']]\n",
    "\n",
    "sub_delay['station'] = [i.replace(' ', '_').lower() for i in sub_delay['station']]\n",
    "sub_delay['station'] = [i.replace('__', '_').lower() for i in sub_delay['station']]\n",
    "sub_delay['station'] = [i.replace('___', '_').lower() for i in sub_delay['station']]\n",
    "sub_delay['station'] = [i.replace('_-_', '_').lower() for i in sub_delay['station']]\n",
    "\n",
    "#Fixing common typos\n",
    "sub_delay['station'] = [i.replace('_nd_', 'and').lower() for i in sub_delay['station']]\n",
    "\n",
    "\n",
    "\n",
    "\n",
    "sub_delay['station'] = [i.replace('_and_' , '/').lower() for i in sub_delay['station']]\n",
    "sub_delay['station'] = [i.replace('_/_', '/').lower() for i in sub_delay['station']]\n",
    "sub_delay['station'] = [i.replace('_&_', '/').lower() for i in sub_delay['station']]\n",
    "sub_delay['station'] = [i.replace('_at_', '/').lower() for i in sub_delay['station']]"
   ]
  },
  {
   "cell_type": "code",
   "execution_count": 11,
   "metadata": {},
   "outputs": [
    {
     "name": "stdout",
     "output_type": "stream",
     "text": [
      "date (1094,)\n",
      "time (1424,)\n",
      "day (7,)\n",
      "station (516,)\n",
      "code (201,)\n",
      "min_delay (138,)\n",
      "min_gap (144,)\n",
      "bound (7,)\n",
      "line (36,)\n",
      "vehicle (901,)\n"
     ]
    },
    {
     "data": {
      "text/plain": [
       "[None, None, None, None, None, None, None, None, None, None]"
      ]
     },
     "execution_count": 11,
     "metadata": {},
     "output_type": "execute_result"
    }
   ],
   "source": [
    "[print(i,sub_delay[i].value_counts().shape) for i in sub_delay.columns]"
   ]
  },
  {
   "cell_type": "markdown",
   "metadata": {},
   "source": [
    "Standardizing did not help with the station names in this dataset. We will go through them one by one to clean it up. "
   ]
  },
  {
   "cell_type": "markdown",
   "metadata": {},
   "source": [
    "#### Addressing null values"
   ]
  },
  {
   "cell_type": "code",
   "execution_count": 12,
   "metadata": {
    "scrolled": false
   },
   "outputs": [
    {
     "data": {
      "text/plain": [
       "date             0\n",
       "time             0\n",
       "day              0\n",
       "station          0\n",
       "code             1\n",
       "min_delay        0\n",
       "min_gap          0\n",
       "bound        13116\n",
       "line           191\n",
       "vehicle          0\n",
       "dtype: int64"
      ]
     },
     "execution_count": 12,
     "metadata": {},
     "output_type": "execute_result"
    }
   ],
   "source": [
    "#Checking Nulls\n",
    "sub_delay.isna().sum()"
   ]
  },
  {
   "cell_type": "code",
   "execution_count": 13,
   "metadata": {},
   "outputs": [],
   "source": [
    "sub_delay['bound'].fillna('Unknown', inplace = True)\n",
    "sub_delay['line'].fillna('Unknown', inplace = True)"
   ]
  },
  {
   "cell_type": "markdown",
   "metadata": {},
   "source": [
    "There are only 4 lines in toronto subway system. Lets address the issue of line variants in our data"
   ]
  },
  {
   "cell_type": "markdown",
   "metadata": {},
   "source": [
    "#### Cleaning line column"
   ]
  },
  {
   "cell_type": "code",
   "execution_count": 14,
   "metadata": {
    "scrolled": false
   },
   "outputs": [
    {
     "data": {
      "text/plain": [
       "YU                        27485\n",
       "BD                        26109\n",
       "SRT                        2186\n",
       "SHP                        1754\n",
       "YU/BD                       918\n",
       "Unknown                     191\n",
       "B/D                          62\n",
       "YU / BD                      25\n",
       "YU/ BD                       14\n",
       "YUS                           7\n",
       "999                           5\n",
       "YU - BD                       5\n",
       "BD/YU                         4\n",
       "BD LINE                       4\n",
       "YU-BD                         3\n",
       "YU LINE                       2\n",
       "11 BAYVIEW                    2\n",
       "16 MCCOWAN                    2\n",
       "510 SPADINA                   1\n",
       "YU\\BD                         1\n",
       "BLOOR-DANFORTH                1\n",
       "32 EGLINTON WEST              1\n",
       "YONGE UNIVERSITY SERVI        1\n",
       "704 RAD BUS                   1\n",
       "134 PROGRESS                  1\n",
       "BLOOR DANFORTH LINES          1\n",
       "YU & BD                       1\n",
       "22 COXWELL                    1\n",
       "85 SHEPPARD EAST              1\n",
       "129 MCCOWAN NORTH             1\n",
       "RT                            1\n",
       "YU BD                         1\n",
       "985 SHEPPARD EAST EXPR        1\n",
       "63 OSSINGTON                  1\n",
       "46 MARTIN GROVE               1\n",
       "YU - BD LINE                  1\n",
       "100 FLEMINGDON PARK           1\n",
       "Name: line, dtype: int64"
      ]
     },
     "execution_count": 14,
     "metadata": {},
     "output_type": "execute_result"
    }
   ],
   "source": [
    "#Checking all unique values\n",
    "sub_delay['line'].value_counts()"
   ]
  },
  {
   "cell_type": "code",
   "execution_count": 15,
   "metadata": {},
   "outputs": [],
   "source": [
    "#Cleaning up `line` column\n",
    "\n",
    "sub_delay['line'] = sub_delay['line'].replace(['YU', 'YUS', 'YU/BD', 'YU LINE' ,'YU / BD', 'YU/ BD', 'YU-BD', '11 BAYVIEW',\n",
    "                                              'YU - BD', 'RT', 'YU\\BD', '29 DUFFERIN', 'YU - BD LINE', 'YU & BD', 'YU BD',\n",
    "                                              '35 JANE', '704 RAD BUS', '95 YORK MILLS', 'YONGE UNIVERSITY SERVI',\n",
    "                                              '32 EGLINTON WEST', '510 SPADINA'], '1-YU')\n",
    "\n",
    "\n",
    "sub_delay['line'] = sub_delay['line'].replace(['BD','B/D','BLOOR-DANFORTH','BD/YU','BD LINE','46 MARTIN GROVE', '22 COXWELL',\n",
    "                                              '100 FLEMINGDON PARK', 'BLOOR DANFORTH LINES', '63 OSSINGTON'], '2-BD')\n",
    "\n",
    "\n",
    "sub_delay['line'] = sub_delay['line'].replace(['SRT', '16 MCCOWAN', '129 MCCOWAN NORTH', '134 PROGRESS',\n",
    "                                               '985 SHEPPARD EAST EXPR'], '3-SRT')\n",
    "                                              \n",
    "\n",
    "\n",
    "sub_delay['line'] = sub_delay['line'].replace(['SHP', '85 SHEPPARD EAST'], '4-SHP')\n",
    "\n",
    "\n",
    "sub_delay['line'] = sub_delay['line'].replace(['999', 'Unknown'], 'Other')"
   ]
  },
  {
   "cell_type": "code",
   "execution_count": 16,
   "metadata": {},
   "outputs": [
    {
     "data": {
      "text/plain": [
       "1-YU     28470\n",
       "2-BD     26185\n",
       "3-SRT     2191\n",
       "4-SHP     1755\n",
       "Other      196\n",
       "Name: line, dtype: int64"
      ]
     },
     "execution_count": 16,
     "metadata": {},
     "output_type": "execute_result"
    }
   ],
   "source": [
    "#Checking cleaned up column values\n",
    "sub_delay['line'].value_counts()"
   ]
  },
  {
   "cell_type": "code",
   "execution_count": 17,
   "metadata": {},
   "outputs": [],
   "source": [
    "#Drop rows that had other in the line. That will help us with cleaning up the station section\n",
    "sub_delay.drop(sub_delay[sub_delay.line == 'Other'].index, inplace=True)"
   ]
  },
  {
   "cell_type": "markdown",
   "metadata": {},
   "source": [
    "### Cleaning `station` column"
   ]
  },
  {
   "cell_type": "code",
   "execution_count": 18,
   "metadata": {},
   "outputs": [
    {
     "data": {
      "text/plain": [
       "kennedy_bd_station        2688\n",
       "kipling_station           2602\n",
       "finch_station             2225\n",
       "sheppard_west_station     1590\n",
       "wilson_station            1448\n",
       "bloor_station             1441\n",
       "islington_station         1370\n",
       "warden_station            1365\n",
       "eglinton_station          1346\n",
       "coxwell_station           1230\n",
       "victoria_park_station     1229\n",
       "yus/bd/sheppard_subway     978\n",
       "st_clair_west_station      971\n",
       "davisville_station         933\n",
       "yonge_bd_station           927\n",
       "st_george_yus_station      918\n",
       "bloor_danforth_subway      914\n",
       "york_mills_station         903\n",
       "jane_station               866\n",
       "sheppard_station           845\n",
       "yonge_university_line      844\n",
       "keele_station              839\n",
       "vaughan_mc_station         825\n",
       "st_george_bd_station       822\n",
       "greenwood_station          794\n",
       "Name: station, dtype: int64"
      ]
     },
     "execution_count": 18,
     "metadata": {},
     "output_type": "execute_result"
    }
   ],
   "source": [
    "sub_delay['station'].value_counts().head(25)"
   ]
  },
  {
   "cell_type": "code",
   "execution_count": 19,
   "metadata": {},
   "outputs": [],
   "source": [
    "#grouping all station names that are somewhat similar but not similar\n",
    "\n",
    "sub_delay['station'] = sub_delay['station'].replace(['kennedy_bd_station', 'kennedy_yus_station' ], 'kennedy_station')\n",
    "\n",
    "sub_delay['station'] = sub_delay['station'].replace(['kipling_station_(appro' ], 'kipling_station')\n",
    "\n",
    "sub_delay['station'] = sub_delay['station'].replace(['vaughan_mc_station'], 'vaughan_station')\n",
    "\n",
    "sub_delay['station'] = sub_delay['station'].replace(['yonge_bd_station', 'yonge_station', 'bloor_station'], 'bloor_yonge_station')\n",
    "\n",
    "sub_delay['station'] = sub_delay['station'].replace(['st_george_yus_station', 'st_george_bd_station'], 'st_george_station')\n",
    "\n",
    "sub_delay['station'] = sub_delay['station'].replace(['spadina_bd_station', 'spadina_yus_station'], 'spadina_station')\n",
    "\n",
    "sub_delay['station'] = sub_delay['station'].replace(['kennedy_srt_station'], 'kennedy_station')\n",
    "\n",
    "sub_delay['station'] = sub_delay['station'].replace(['yonge_shp_station','yonge_shep_station', 'sheppard-yonge_station'], 'sheppard_station')\n",
    "\n",
    "#Imported these variants from bus_cleaning\n",
    "sub_delay['station'] = sub_delay['station'].replace(['stc', 'scar_town_centre_station', 'scarborough_town_centre', 'scarborough_ctr_statio',\n",
    "                                            'scarb_town_station', 'scarborough_centre_station', 'scarborough_centre_station',\n",
    "                                            'scarborough_town_station', 'scarborough_town_centre_station','scarborough_center_station',\n",
    "                                            'scarborough_town_ctr', 'stc_srt_station', 'scarborough_town_center_rt_station',\n",
    "                                            'scarborough_town_center_station', 'scarb_ctr_station',\n",
    "                                            'scarborough_town_center'], 'stc_station')\n",
    "\n",
    "\n",
    "sub_delay['station'] = sub_delay['station'].replace(['union_station_to_king', 'union_station_to_st_an', 'union_to_king',\n",
    "                                                    'union_to_king_station', 'union_to_st_andrew', 'union_station_(to_king'],\n",
    "                                                    'union_station')\n",
    "\n",
    "sub_delay['station'] = sub_delay['station'].replace(['keele_to_high_park'], 'keele_station')\n",
    "\n",
    "sub_delay['station'] = sub_delay['station'].replace(['st_clair_west_to_union'], 'st_clair_west_station')\n",
    "\n",
    "sub_delay['station'] = sub_delay['station'].replace(['eglinton_to_bloor_stat'], 'eglinton_station')\n",
    "\n"
   ]
  },
  {
   "cell_type": "code",
   "execution_count": 20,
   "metadata": {},
   "outputs": [
    {
     "data": {
      "text/plain": [
       "kennedy_station           3149\n",
       "kipling_station           2610\n",
       "bloor_yonge_station       2374\n",
       "finch_station             2225\n",
       "st_george_station         1743\n",
       "sheppard_west_station     1590\n",
       "wilson_station            1448\n",
       "sheppard_station          1418\n",
       "islington_station         1370\n",
       "warden_station            1365\n",
       "eglinton_station          1354\n",
       "coxwell_station           1230\n",
       "victoria_park_station     1229\n",
       "spadina_station            985\n",
       "yus/bd/sheppard_subway     978\n",
       "st_clair_west_station      977\n",
       "davisville_station         933\n",
       "bloor_danforth_subway      914\n",
       "york_mills_station         903\n",
       "jane_station               866\n",
       "keele_station              847\n",
       "yonge_university_line      844\n",
       "vaughan_station            825\n",
       "greenwood_station          794\n",
       "st_clair_station           788\n",
       "union_station              775\n",
       "lawrence_station           773\n",
       "dundas_station             709\n",
       "old_mill_station           690\n",
       "dundas_west_station        647\n",
       "broadview_station          629\n",
       "royal_york_station         619\n",
       "dupont_station             610\n",
       "ossington_station          609\n",
       "christie_station           607\n",
       "eglinton_west_station      595\n",
       "college_station            585\n",
       "queen_station              571\n",
       "wellesley_station          569\n",
       "yorkdale_station           561\n",
       "mccowan_station            560\n",
       "lawrence_west_station      539\n",
       "woodbine_station           529\n",
       "main_street_station        527\n",
       "donlands_station           522\n",
       "st_patrick_station         510\n",
       "bathurst_station           505\n",
       "pape_station               497\n",
       "rosedale_station           466\n",
       "north_york_ctr_station     464\n",
       "Name: station, dtype: int64"
      ]
     },
     "execution_count": 20,
     "metadata": {},
     "output_type": "execute_result"
    }
   ],
   "source": [
    "sub_delay['station'].value_counts().head(50)"
   ]
  },
  {
   "cell_type": "markdown",
   "metadata": {},
   "source": [
    "### Cleaning `bound` column"
   ]
  },
  {
   "cell_type": "code",
   "execution_count": 21,
   "metadata": {},
   "outputs": [
    {
     "data": {
      "text/plain": [
       "Unknown    12956\n",
       "S          12551\n",
       "W          11324\n",
       "N          10905\n",
       "E          10847\n",
       "B             16\n",
       "5              1\n",
       "Y              1\n",
       "Name: bound, dtype: int64"
      ]
     },
     "execution_count": 21,
     "metadata": {},
     "output_type": "execute_result"
    }
   ],
   "source": [
    "#checking unique values\n",
    "sub_delay['bound'].value_counts()"
   ]
  },
  {
   "cell_type": "code",
   "execution_count": 22,
   "metadata": {},
   "outputs": [],
   "source": [
    "#grouping the bound values and giving them proper name\n",
    "\n",
    "sub_delay['bound'] = sub_delay['bound'].replace(['E'], 'East')\n",
    "\n",
    "sub_delay['bound'] = sub_delay['bound'].replace(['W'], 'West')\n",
    "\n",
    "sub_delay['bound'] = sub_delay['bound'].replace(['N'], 'North')\n",
    "\n",
    "sub_delay['bound'] = sub_delay['bound'].replace(['S', '5'], 'South')\n",
    "\n",
    "sub_delay['bound'] = sub_delay['bound'].replace(['B', 'Y', 'Unknown'], 'Unknown')"
   ]
  },
  {
   "cell_type": "code",
   "execution_count": 23,
   "metadata": {},
   "outputs": [
    {
     "data": {
      "text/plain": [
       "Unknown    12973\n",
       "South      12552\n",
       "West       11324\n",
       "North      10905\n",
       "East       10847\n",
       "Name: bound, dtype: int64"
      ]
     },
     "execution_count": 23,
     "metadata": {},
     "output_type": "execute_result"
    }
   ],
   "source": [
    "sub_delay['bound'].value_counts()"
   ]
  },
  {
   "cell_type": "markdown",
   "metadata": {},
   "source": [
    "### Lets add time month and year columns"
   ]
  },
  {
   "cell_type": "code",
   "execution_count": 24,
   "metadata": {},
   "outputs": [
    {
     "data": {
      "text/html": [
       "<div>\n",
       "<style scoped>\n",
       "    .dataframe tbody tr th:only-of-type {\n",
       "        vertical-align: middle;\n",
       "    }\n",
       "\n",
       "    .dataframe tbody tr th {\n",
       "        vertical-align: top;\n",
       "    }\n",
       "\n",
       "    .dataframe thead th {\n",
       "        text-align: right;\n",
       "    }\n",
       "</style>\n",
       "<table border=\"1\" class=\"dataframe\">\n",
       "  <thead>\n",
       "    <tr style=\"text-align: right;\">\n",
       "      <th></th>\n",
       "      <th>date</th>\n",
       "      <th>time</th>\n",
       "      <th>day</th>\n",
       "      <th>station</th>\n",
       "      <th>code</th>\n",
       "      <th>min_delay</th>\n",
       "      <th>min_gap</th>\n",
       "      <th>bound</th>\n",
       "      <th>line</th>\n",
       "      <th>vehicle</th>\n",
       "    </tr>\n",
       "  </thead>\n",
       "  <tbody>\n",
       "    <tr>\n",
       "      <th>0</th>\n",
       "      <td>2017-01-01</td>\n",
       "      <td>00:29</td>\n",
       "      <td>Sunday</td>\n",
       "      <td>kennedy_station</td>\n",
       "      <td>MUSC</td>\n",
       "      <td>0</td>\n",
       "      <td>0</td>\n",
       "      <td>West</td>\n",
       "      <td>2-BD</td>\n",
       "      <td>5159</td>\n",
       "    </tr>\n",
       "    <tr>\n",
       "      <th>1</th>\n",
       "      <td>2017-01-01</td>\n",
       "      <td>01:35</td>\n",
       "      <td>Sunday</td>\n",
       "      <td>islington_station</td>\n",
       "      <td>MUSC</td>\n",
       "      <td>0</td>\n",
       "      <td>0</td>\n",
       "      <td>East</td>\n",
       "      <td>2-BD</td>\n",
       "      <td>5296</td>\n",
       "    </tr>\n",
       "    <tr>\n",
       "      <th>2</th>\n",
       "      <td>2017-01-01</td>\n",
       "      <td>03:00</td>\n",
       "      <td>Sunday</td>\n",
       "      <td>lawrence_station</td>\n",
       "      <td>EUDO</td>\n",
       "      <td>4</td>\n",
       "      <td>8</td>\n",
       "      <td>South</td>\n",
       "      <td>1-YU</td>\n",
       "      <td>6056</td>\n",
       "    </tr>\n",
       "    <tr>\n",
       "      <th>3</th>\n",
       "      <td>2017-01-01</td>\n",
       "      <td>04:06</td>\n",
       "      <td>Sunday</td>\n",
       "      <td>greenwood_yard</td>\n",
       "      <td>SUUT</td>\n",
       "      <td>0</td>\n",
       "      <td>0</td>\n",
       "      <td>Unknown</td>\n",
       "      <td>2-BD</td>\n",
       "      <td>0</td>\n",
       "    </tr>\n",
       "    <tr>\n",
       "      <th>4</th>\n",
       "      <td>2017-01-01</td>\n",
       "      <td>04:20</td>\n",
       "      <td>Sunday</td>\n",
       "      <td>sheppard_station</td>\n",
       "      <td>PUCSS</td>\n",
       "      <td>0</td>\n",
       "      <td>0</td>\n",
       "      <td>West</td>\n",
       "      <td>4-SHP</td>\n",
       "      <td>6171</td>\n",
       "    </tr>\n",
       "  </tbody>\n",
       "</table>\n",
       "</div>"
      ],
      "text/plain": [
       "        date   time     day            station   code  min_delay  min_gap  \\\n",
       "0 2017-01-01  00:29  Sunday    kennedy_station   MUSC          0        0   \n",
       "1 2017-01-01  01:35  Sunday  islington_station   MUSC          0        0   \n",
       "2 2017-01-01  03:00  Sunday   lawrence_station   EUDO          4        8   \n",
       "3 2017-01-01  04:06  Sunday     greenwood_yard   SUUT          0        0   \n",
       "4 2017-01-01  04:20  Sunday   sheppard_station  PUCSS          0        0   \n",
       "\n",
       "     bound   line  vehicle  \n",
       "0     West   2-BD     5159  \n",
       "1     East   2-BD     5296  \n",
       "2    South   1-YU     6056  \n",
       "3  Unknown   2-BD        0  \n",
       "4     West  4-SHP     6171  "
      ]
     },
     "execution_count": 24,
     "metadata": {},
     "output_type": "execute_result"
    }
   ],
   "source": [
    "sub_delay.head()"
   ]
  },
  {
   "cell_type": "markdown",
   "metadata": {},
   "source": [
    "### Adding incidents code description file"
   ]
  },
  {
   "cell_type": "code",
   "execution_count": 25,
   "metadata": {},
   "outputs": [
    {
     "data": {
      "text/html": [
       "<div>\n",
       "<style scoped>\n",
       "    .dataframe tbody tr th:only-of-type {\n",
       "        vertical-align: middle;\n",
       "    }\n",
       "\n",
       "    .dataframe tbody tr th {\n",
       "        vertical-align: top;\n",
       "    }\n",
       "\n",
       "    .dataframe thead th {\n",
       "        text-align: right;\n",
       "    }\n",
       "</style>\n",
       "<table border=\"1\" class=\"dataframe\">\n",
       "  <thead>\n",
       "    <tr style=\"text-align: right;\">\n",
       "      <th></th>\n",
       "      <th>date</th>\n",
       "      <th>time</th>\n",
       "      <th>day</th>\n",
       "      <th>station</th>\n",
       "      <th>code</th>\n",
       "      <th>min_delay</th>\n",
       "      <th>min_gap</th>\n",
       "      <th>bound</th>\n",
       "      <th>line</th>\n",
       "      <th>vehicle</th>\n",
       "    </tr>\n",
       "  </thead>\n",
       "  <tbody>\n",
       "    <tr>\n",
       "      <th>0</th>\n",
       "      <td>2017-01-01</td>\n",
       "      <td>00:29</td>\n",
       "      <td>Sunday</td>\n",
       "      <td>kennedy_station</td>\n",
       "      <td>MUSC</td>\n",
       "      <td>0</td>\n",
       "      <td>0</td>\n",
       "      <td>West</td>\n",
       "      <td>2-BD</td>\n",
       "      <td>5159</td>\n",
       "    </tr>\n",
       "    <tr>\n",
       "      <th>1</th>\n",
       "      <td>2017-01-01</td>\n",
       "      <td>01:35</td>\n",
       "      <td>Sunday</td>\n",
       "      <td>islington_station</td>\n",
       "      <td>MUSC</td>\n",
       "      <td>0</td>\n",
       "      <td>0</td>\n",
       "      <td>East</td>\n",
       "      <td>2-BD</td>\n",
       "      <td>5296</td>\n",
       "    </tr>\n",
       "    <tr>\n",
       "      <th>2</th>\n",
       "      <td>2017-01-01</td>\n",
       "      <td>03:00</td>\n",
       "      <td>Sunday</td>\n",
       "      <td>lawrence_station</td>\n",
       "      <td>EUDO</td>\n",
       "      <td>4</td>\n",
       "      <td>8</td>\n",
       "      <td>South</td>\n",
       "      <td>1-YU</td>\n",
       "      <td>6056</td>\n",
       "    </tr>\n",
       "    <tr>\n",
       "      <th>3</th>\n",
       "      <td>2017-01-01</td>\n",
       "      <td>04:06</td>\n",
       "      <td>Sunday</td>\n",
       "      <td>greenwood_yard</td>\n",
       "      <td>SUUT</td>\n",
       "      <td>0</td>\n",
       "      <td>0</td>\n",
       "      <td>Unknown</td>\n",
       "      <td>2-BD</td>\n",
       "      <td>0</td>\n",
       "    </tr>\n",
       "    <tr>\n",
       "      <th>4</th>\n",
       "      <td>2017-01-01</td>\n",
       "      <td>04:20</td>\n",
       "      <td>Sunday</td>\n",
       "      <td>sheppard_station</td>\n",
       "      <td>PUCSS</td>\n",
       "      <td>0</td>\n",
       "      <td>0</td>\n",
       "      <td>West</td>\n",
       "      <td>4-SHP</td>\n",
       "      <td>6171</td>\n",
       "    </tr>\n",
       "    <tr>\n",
       "      <th>...</th>\n",
       "      <td>...</td>\n",
       "      <td>...</td>\n",
       "      <td>...</td>\n",
       "      <td>...</td>\n",
       "      <td>...</td>\n",
       "      <td>...</td>\n",
       "      <td>...</td>\n",
       "      <td>...</td>\n",
       "      <td>...</td>\n",
       "      <td>...</td>\n",
       "    </tr>\n",
       "    <tr>\n",
       "      <th>58792</th>\n",
       "      <td>2019-12-31</td>\n",
       "      <td>22:54</td>\n",
       "      <td>Tuesday</td>\n",
       "      <td>finch_station</td>\n",
       "      <td>SUAP</td>\n",
       "      <td>0</td>\n",
       "      <td>0</td>\n",
       "      <td>Unknown</td>\n",
       "      <td>1-YU</td>\n",
       "      <td>0</td>\n",
       "    </tr>\n",
       "    <tr>\n",
       "      <th>58793</th>\n",
       "      <td>2019-12-31</td>\n",
       "      <td>23:09</td>\n",
       "      <td>Tuesday</td>\n",
       "      <td>sherbourne_station</td>\n",
       "      <td>EUBK</td>\n",
       "      <td>0</td>\n",
       "      <td>0</td>\n",
       "      <td>West</td>\n",
       "      <td>2-BD</td>\n",
       "      <td>5234</td>\n",
       "    </tr>\n",
       "    <tr>\n",
       "      <th>58794</th>\n",
       "      <td>2019-12-31</td>\n",
       "      <td>23:12</td>\n",
       "      <td>Tuesday</td>\n",
       "      <td>st_clair_west_station</td>\n",
       "      <td>SUDP</td>\n",
       "      <td>0</td>\n",
       "      <td>0</td>\n",
       "      <td>Unknown</td>\n",
       "      <td>1-YU</td>\n",
       "      <td>0</td>\n",
       "    </tr>\n",
       "    <tr>\n",
       "      <th>58795</th>\n",
       "      <td>2019-12-31</td>\n",
       "      <td>23:16</td>\n",
       "      <td>Tuesday</td>\n",
       "      <td>finch_station</td>\n",
       "      <td>MUSC</td>\n",
       "      <td>0</td>\n",
       "      <td>0</td>\n",
       "      <td>South</td>\n",
       "      <td>1-YU</td>\n",
       "      <td>6066</td>\n",
       "    </tr>\n",
       "    <tr>\n",
       "      <th>58796</th>\n",
       "      <td>2019-12-31</td>\n",
       "      <td>23:32</td>\n",
       "      <td>Tuesday</td>\n",
       "      <td>king_station</td>\n",
       "      <td>MUIRS</td>\n",
       "      <td>0</td>\n",
       "      <td>0</td>\n",
       "      <td>South</td>\n",
       "      <td>1-YU</td>\n",
       "      <td>0</td>\n",
       "    </tr>\n",
       "  </tbody>\n",
       "</table>\n",
       "<p>58601 rows × 10 columns</p>\n",
       "</div>"
      ],
      "text/plain": [
       "            date   time      day                station   code  min_delay  \\\n",
       "0     2017-01-01  00:29   Sunday        kennedy_station   MUSC          0   \n",
       "1     2017-01-01  01:35   Sunday      islington_station   MUSC          0   \n",
       "2     2017-01-01  03:00   Sunday       lawrence_station   EUDO          4   \n",
       "3     2017-01-01  04:06   Sunday         greenwood_yard   SUUT          0   \n",
       "4     2017-01-01  04:20   Sunday       sheppard_station  PUCSS          0   \n",
       "...          ...    ...      ...                    ...    ...        ...   \n",
       "58792 2019-12-31  22:54  Tuesday          finch_station   SUAP          0   \n",
       "58793 2019-12-31  23:09  Tuesday     sherbourne_station   EUBK          0   \n",
       "58794 2019-12-31  23:12  Tuesday  st_clair_west_station   SUDP          0   \n",
       "58795 2019-12-31  23:16  Tuesday          finch_station   MUSC          0   \n",
       "58796 2019-12-31  23:32  Tuesday           king_station  MUIRS          0   \n",
       "\n",
       "       min_gap    bound   line  vehicle  \n",
       "0            0     West   2-BD     5159  \n",
       "1            0     East   2-BD     5296  \n",
       "2            8    South   1-YU     6056  \n",
       "3            0  Unknown   2-BD        0  \n",
       "4            0     West  4-SHP     6171  \n",
       "...        ...      ...    ...      ...  \n",
       "58792        0  Unknown   1-YU        0  \n",
       "58793        0     West   2-BD     5234  \n",
       "58794        0  Unknown   1-YU        0  \n",
       "58795        0    South   1-YU     6066  \n",
       "58796        0    South   1-YU        0  \n",
       "\n",
       "[58601 rows x 10 columns]"
      ]
     },
     "execution_count": 25,
     "metadata": {},
     "output_type": "execute_result"
    }
   ],
   "source": [
    "sub_delay"
   ]
  },
  {
   "cell_type": "markdown",
   "metadata": {},
   "source": [
    "Simply looking at the delay codes does not add much value to our anlaysis so we will match it with the subway delay description file from the same source as our data i.e. Toronto Open Data Portal."
   ]
  },
  {
   "cell_type": "markdown",
   "metadata": {},
   "source": [
    "## Adding Delay Code description to the data"
   ]
  },
  {
   "cell_type": "code",
   "execution_count": 26,
   "metadata": {
    "scrolled": true
   },
   "outputs": [
    {
     "data": {
      "text/html": [
       "<div>\n",
       "<style scoped>\n",
       "    .dataframe tbody tr th:only-of-type {\n",
       "        vertical-align: middle;\n",
       "    }\n",
       "\n",
       "    .dataframe tbody tr th {\n",
       "        vertical-align: top;\n",
       "    }\n",
       "\n",
       "    .dataframe thead th {\n",
       "        text-align: right;\n",
       "    }\n",
       "</style>\n",
       "<table border=\"1\" class=\"dataframe\">\n",
       "  <thead>\n",
       "    <tr style=\"text-align: right;\">\n",
       "      <th></th>\n",
       "      <th>Unnamed: 0</th>\n",
       "      <th>Unnamed: 1</th>\n",
       "      <th>Unnamed: 2</th>\n",
       "      <th>Unnamed: 3</th>\n",
       "    </tr>\n",
       "  </thead>\n",
       "  <tbody>\n",
       "    <tr>\n",
       "      <th>0</th>\n",
       "      <td>NaN</td>\n",
       "      <td>NaN</td>\n",
       "      <td>SUB RMENU CODE</td>\n",
       "      <td>CODE DESCRIPTION</td>\n",
       "    </tr>\n",
       "    <tr>\n",
       "      <th>1</th>\n",
       "      <td>NaN</td>\n",
       "      <td>1.0</td>\n",
       "      <td>EUAC</td>\n",
       "      <td>Air Conditioning</td>\n",
       "    </tr>\n",
       "    <tr>\n",
       "      <th>2</th>\n",
       "      <td>NaN</td>\n",
       "      <td>2.0</td>\n",
       "      <td>EUAL</td>\n",
       "      <td>Alternating Current</td>\n",
       "    </tr>\n",
       "    <tr>\n",
       "      <th>3</th>\n",
       "      <td>NaN</td>\n",
       "      <td>3.0</td>\n",
       "      <td>EUATC</td>\n",
       "      <td>ATC RC&amp;S Equipment</td>\n",
       "    </tr>\n",
       "    <tr>\n",
       "      <th>4</th>\n",
       "      <td>NaN</td>\n",
       "      <td>4.0</td>\n",
       "      <td>EUBK</td>\n",
       "      <td>Brakes</td>\n",
       "    </tr>\n",
       "  </tbody>\n",
       "</table>\n",
       "</div>"
      ],
      "text/plain": [
       "   Unnamed: 0  Unnamed: 1      Unnamed: 2           Unnamed: 3\n",
       "0         NaN         NaN  SUB RMENU CODE     CODE DESCRIPTION\n",
       "1         NaN         1.0            EUAC     Air Conditioning\n",
       "2         NaN         2.0            EUAL  Alternating Current\n",
       "3         NaN         3.0           EUATC   ATC RC&S Equipment\n",
       "4         NaN         4.0            EUBK               Brakes"
      ]
     },
     "execution_count": 26,
     "metadata": {},
     "output_type": "execute_result"
    }
   ],
   "source": [
    "#importing delay code file to add description\n",
    "delay_codes = pd.read_excel('subway-delay-codes.xlsx')\n",
    "delay_codes.head()"
   ]
  },
  {
   "cell_type": "code",
   "execution_count": 27,
   "metadata": {},
   "outputs": [
    {
     "data": {
      "text/plain": [
       "Unnamed: 0    201\n",
       "Unnamed: 1      1\n",
       "Unnamed: 2      0\n",
       "Unnamed: 3      0\n",
       "dtype: int64"
      ]
     },
     "execution_count": 27,
     "metadata": {},
     "output_type": "execute_result"
    }
   ],
   "source": [
    "delay_codes.isna().sum()"
   ]
  },
  {
   "cell_type": "code",
   "execution_count": 28,
   "metadata": {},
   "outputs": [],
   "source": [
    "#dropping useless columns\n",
    "delay_codes = delay_codes.drop(['Unnamed: 0', 'Unnamed: 1'], axis = 1)"
   ]
  },
  {
   "cell_type": "code",
   "execution_count": 29,
   "metadata": {},
   "outputs": [],
   "source": [
    "delay_codes = delay_codes.drop([0])"
   ]
  },
  {
   "cell_type": "code",
   "execution_count": 30,
   "metadata": {},
   "outputs": [
    {
     "data": {
      "text/html": [
       "<div>\n",
       "<style scoped>\n",
       "    .dataframe tbody tr th:only-of-type {\n",
       "        vertical-align: middle;\n",
       "    }\n",
       "\n",
       "    .dataframe tbody tr th {\n",
       "        vertical-align: top;\n",
       "    }\n",
       "\n",
       "    .dataframe thead th {\n",
       "        text-align: right;\n",
       "    }\n",
       "</style>\n",
       "<table border=\"1\" class=\"dataframe\">\n",
       "  <thead>\n",
       "    <tr style=\"text-align: right;\">\n",
       "      <th></th>\n",
       "      <th>code</th>\n",
       "      <th>incident_description</th>\n",
       "    </tr>\n",
       "  </thead>\n",
       "  <tbody>\n",
       "    <tr>\n",
       "      <th>1</th>\n",
       "      <td>EUAC</td>\n",
       "      <td>Air Conditioning</td>\n",
       "    </tr>\n",
       "    <tr>\n",
       "      <th>2</th>\n",
       "      <td>EUAL</td>\n",
       "      <td>Alternating Current</td>\n",
       "    </tr>\n",
       "    <tr>\n",
       "      <th>3</th>\n",
       "      <td>EUATC</td>\n",
       "      <td>ATC RC&amp;S Equipment</td>\n",
       "    </tr>\n",
       "    <tr>\n",
       "      <th>4</th>\n",
       "      <td>EUBK</td>\n",
       "      <td>Brakes</td>\n",
       "    </tr>\n",
       "    <tr>\n",
       "      <th>5</th>\n",
       "      <td>EUBO</td>\n",
       "      <td>Body</td>\n",
       "    </tr>\n",
       "    <tr>\n",
       "      <th>...</th>\n",
       "      <td>...</td>\n",
       "      <td>...</td>\n",
       "    </tr>\n",
       "    <tr>\n",
       "      <th>196</th>\n",
       "      <td>TRNOA</td>\n",
       "      <td>No Operator Immediately Available</td>\n",
       "    </tr>\n",
       "    <tr>\n",
       "      <th>197</th>\n",
       "      <td>TRO</td>\n",
       "      <td>Transportation Department - Other</td>\n",
       "    </tr>\n",
       "    <tr>\n",
       "      <th>198</th>\n",
       "      <td>TRSET</td>\n",
       "      <td>Train Controls Improperly Shut Down</td>\n",
       "    </tr>\n",
       "    <tr>\n",
       "      <th>199</th>\n",
       "      <td>TRST</td>\n",
       "      <td>Storm Trains</td>\n",
       "    </tr>\n",
       "    <tr>\n",
       "      <th>200</th>\n",
       "      <td>TRTC</td>\n",
       "      <td>Transit Control Related Problems</td>\n",
       "    </tr>\n",
       "  </tbody>\n",
       "</table>\n",
       "<p>200 rows × 2 columns</p>\n",
       "</div>"
      ],
      "text/plain": [
       "      code                 incident_description\n",
       "1     EUAC                     Air Conditioning\n",
       "2     EUAL                  Alternating Current\n",
       "3    EUATC                   ATC RC&S Equipment\n",
       "4     EUBK                               Brakes\n",
       "5     EUBO                                 Body\n",
       "..     ...                                  ...\n",
       "196  TRNOA   No Operator Immediately Available \n",
       "197    TRO    Transportation Department - Other\n",
       "198  TRSET  Train Controls Improperly Shut Down\n",
       "199   TRST                         Storm Trains\n",
       "200   TRTC     Transit Control Related Problems\n",
       "\n",
       "[200 rows x 2 columns]"
      ]
     },
     "execution_count": 30,
     "metadata": {},
     "output_type": "execute_result"
    }
   ],
   "source": [
    "delay_codes = delay_codes.rename(columns={\"Unnamed: 2\": \"code\", \"Unnamed: 3\": \"incident_description\"})\n",
    "delay_codes"
   ]
  },
  {
   "cell_type": "code",
   "execution_count": 31,
   "metadata": {},
   "outputs": [
    {
     "data": {
      "text/plain": [
       "(58601, 10)"
      ]
     },
     "execution_count": 31,
     "metadata": {},
     "output_type": "execute_result"
    }
   ],
   "source": [
    "sub_delay.shape"
   ]
  },
  {
   "cell_type": "code",
   "execution_count": 32,
   "metadata": {},
   "outputs": [],
   "source": [
    "#Doing Left join to ensure any code that has a description is matched & we dont lose any information from our original data\n",
    "sub_delay = sub_delay.join(delay_codes.set_index('code'), on='code', how = 'left')"
   ]
  },
  {
   "cell_type": "code",
   "execution_count": 33,
   "metadata": {},
   "outputs": [],
   "source": [
    "#resetting indexes\n",
    "sub_delay.reset_index(inplace = True, drop = True)"
   ]
  },
  {
   "cell_type": "code",
   "execution_count": 34,
   "metadata": {},
   "outputs": [],
   "source": [
    "sub_delay['incidents_grouped'] = sub_delay['incident_description']"
   ]
  },
  {
   "cell_type": "code",
   "execution_count": 35,
   "metadata": {},
   "outputs": [
    {
     "data": {
      "text/plain": [
       "Miscellaneous Speed Control                                7609\n",
       "Operator Overspeeding                                      4994\n",
       "Injured or ill Customer (In Station) - Transported         4805\n",
       "Passenger Assistance Alarm Activated - No Trouble Found    4319\n",
       "Disorderly Patron                                          3032\n",
       "                                                           ... \n",
       "Signals Power Supply Related                                  2\n",
       "Loop Related Failures                                         2\n",
       "T & S Contractor Problems                                     2\n",
       "Signals Zone Countroller Failure                              1\n",
       "Vehicle                                                       1\n",
       "Name: incidents_grouped, Length: 139, dtype: int64"
      ]
     },
     "execution_count": 35,
     "metadata": {},
     "output_type": "execute_result"
    }
   ],
   "source": [
    "#Checking all the unique incidents\n",
    "sub_delay['incidents_grouped'].value_counts()"
   ]
  },
  {
   "cell_type": "code",
   "execution_count": 36,
   "metadata": {
    "scrolled": true
   },
   "outputs": [
    {
     "name": "stdout",
     "output_type": "stream",
     "text": [
      "<class 'pandas.core.frame.DataFrame'>\n",
      "RangeIndex: 58601 entries, 0 to 58600\n",
      "Data columns (total 12 columns):\n",
      " #   Column                Non-Null Count  Dtype         \n",
      "---  ------                --------------  -----         \n",
      " 0   date                  58601 non-null  datetime64[ns]\n",
      " 1   time                  58601 non-null  object        \n",
      " 2   day                   58601 non-null  object        \n",
      " 3   station               58601 non-null  object        \n",
      " 4   code                  58600 non-null  object        \n",
      " 5   min_delay             58601 non-null  int64         \n",
      " 6   min_gap               58601 non-null  int64         \n",
      " 7   bound                 58601 non-null  object        \n",
      " 8   line                  58601 non-null  object        \n",
      " 9   vehicle               58601 non-null  int64         \n",
      " 10  incident_description  57456 non-null  object        \n",
      " 11  incidents_grouped     57456 non-null  object        \n",
      "dtypes: datetime64[ns](1), int64(3), object(8)\n",
      "memory usage: 5.4+ MB\n"
     ]
    }
   ],
   "source": [
    "sub_delay.info()"
   ]
  },
  {
   "cell_type": "code",
   "execution_count": 37,
   "metadata": {},
   "outputs": [
    {
     "data": {
      "text/html": [
       "<div>\n",
       "<style scoped>\n",
       "    .dataframe tbody tr th:only-of-type {\n",
       "        vertical-align: middle;\n",
       "    }\n",
       "\n",
       "    .dataframe tbody tr th {\n",
       "        vertical-align: top;\n",
       "    }\n",
       "\n",
       "    .dataframe thead th {\n",
       "        text-align: right;\n",
       "    }\n",
       "</style>\n",
       "<table border=\"1\" class=\"dataframe\">\n",
       "  <thead>\n",
       "    <tr style=\"text-align: right;\">\n",
       "      <th></th>\n",
       "      <th>date</th>\n",
       "      <th>time</th>\n",
       "      <th>day</th>\n",
       "      <th>station</th>\n",
       "      <th>code</th>\n",
       "      <th>min_delay</th>\n",
       "      <th>min_gap</th>\n",
       "      <th>bound</th>\n",
       "      <th>line</th>\n",
       "      <th>vehicle</th>\n",
       "      <th>incident_description</th>\n",
       "      <th>incidents_grouped</th>\n",
       "    </tr>\n",
       "  </thead>\n",
       "  <tbody>\n",
       "    <tr>\n",
       "      <th>0</th>\n",
       "      <td>2017-01-01</td>\n",
       "      <td>00:29</td>\n",
       "      <td>Sunday</td>\n",
       "      <td>kennedy_station</td>\n",
       "      <td>MUSC</td>\n",
       "      <td>0</td>\n",
       "      <td>0</td>\n",
       "      <td>West</td>\n",
       "      <td>2-BD</td>\n",
       "      <td>5159</td>\n",
       "      <td>Miscellaneous Speed Control</td>\n",
       "      <td>Miscellaneous Speed Control</td>\n",
       "    </tr>\n",
       "    <tr>\n",
       "      <th>1</th>\n",
       "      <td>2017-01-01</td>\n",
       "      <td>01:35</td>\n",
       "      <td>Sunday</td>\n",
       "      <td>islington_station</td>\n",
       "      <td>MUSC</td>\n",
       "      <td>0</td>\n",
       "      <td>0</td>\n",
       "      <td>East</td>\n",
       "      <td>2-BD</td>\n",
       "      <td>5296</td>\n",
       "      <td>Miscellaneous Speed Control</td>\n",
       "      <td>Miscellaneous Speed Control</td>\n",
       "    </tr>\n",
       "    <tr>\n",
       "      <th>2</th>\n",
       "      <td>2017-01-01</td>\n",
       "      <td>03:00</td>\n",
       "      <td>Sunday</td>\n",
       "      <td>lawrence_station</td>\n",
       "      <td>EUDO</td>\n",
       "      <td>4</td>\n",
       "      <td>8</td>\n",
       "      <td>South</td>\n",
       "      <td>1-YU</td>\n",
       "      <td>6056</td>\n",
       "      <td>Door Problems - Faulty Equipment</td>\n",
       "      <td>Door Problems - Faulty Equipment</td>\n",
       "    </tr>\n",
       "    <tr>\n",
       "      <th>3</th>\n",
       "      <td>2017-01-01</td>\n",
       "      <td>04:06</td>\n",
       "      <td>Sunday</td>\n",
       "      <td>greenwood_yard</td>\n",
       "      <td>SUUT</td>\n",
       "      <td>0</td>\n",
       "      <td>0</td>\n",
       "      <td>Unknown</td>\n",
       "      <td>2-BD</td>\n",
       "      <td>0</td>\n",
       "      <td>Unauthorized at Track Level</td>\n",
       "      <td>Unauthorized at Track Level</td>\n",
       "    </tr>\n",
       "    <tr>\n",
       "      <th>4</th>\n",
       "      <td>2017-01-01</td>\n",
       "      <td>04:20</td>\n",
       "      <td>Sunday</td>\n",
       "      <td>sheppard_station</td>\n",
       "      <td>PUCSS</td>\n",
       "      <td>0</td>\n",
       "      <td>0</td>\n",
       "      <td>West</td>\n",
       "      <td>4-SHP</td>\n",
       "      <td>6171</td>\n",
       "      <td>Central Office Signalling System</td>\n",
       "      <td>Central Office Signalling System</td>\n",
       "    </tr>\n",
       "  </tbody>\n",
       "</table>\n",
       "</div>"
      ],
      "text/plain": [
       "        date   time     day            station   code  min_delay  min_gap  \\\n",
       "0 2017-01-01  00:29  Sunday    kennedy_station   MUSC          0        0   \n",
       "1 2017-01-01  01:35  Sunday  islington_station   MUSC          0        0   \n",
       "2 2017-01-01  03:00  Sunday   lawrence_station   EUDO          4        8   \n",
       "3 2017-01-01  04:06  Sunday     greenwood_yard   SUUT          0        0   \n",
       "4 2017-01-01  04:20  Sunday   sheppard_station  PUCSS          0        0   \n",
       "\n",
       "     bound   line  vehicle              incident_description  \\\n",
       "0     West   2-BD     5159       Miscellaneous Speed Control   \n",
       "1     East   2-BD     5296       Miscellaneous Speed Control   \n",
       "2    South   1-YU     6056  Door Problems - Faulty Equipment   \n",
       "3  Unknown   2-BD        0       Unauthorized at Track Level   \n",
       "4     West  4-SHP     6171  Central Office Signalling System   \n",
       "\n",
       "                  incidents_grouped  \n",
       "0       Miscellaneous Speed Control  \n",
       "1       Miscellaneous Speed Control  \n",
       "2  Door Problems - Faulty Equipment  \n",
       "3       Unauthorized at Track Level  \n",
       "4  Central Office Signalling System  "
      ]
     },
     "execution_count": 37,
     "metadata": {},
     "output_type": "execute_result"
    }
   ],
   "source": [
    "sub_delay.head()"
   ]
  },
  {
   "cell_type": "markdown",
   "metadata": {},
   "source": [
    "### Rearranging Columns and dropping the excess"
   ]
  },
  {
   "cell_type": "code",
   "execution_count": 38,
   "metadata": {},
   "outputs": [],
   "source": [
    "# lets reorganize the columns and drop time column in the process to avoid repeition. \n",
    "# Also dropping min_gap as it holds a lot of 0 values which is not true for subway lines\n",
    "sub_delay = sub_delay [['date','time', 'station','line','bound', 'min_delay', 'code','incident_description', 'vehicle']]\n",
    "                        "
   ]
  },
  {
   "cell_type": "code",
   "execution_count": 39,
   "metadata": {
    "scrolled": false
   },
   "outputs": [
    {
     "data": {
      "text/plain": [
       "Miscellaneous Speed Control                                   7609\n",
       "Operator Overspeeding                                         4994\n",
       "Injured or ill Customer (In Station) - Transported            4805\n",
       "Passenger Assistance Alarm Activated - No Trouble Found       4319\n",
       "Disorderly Patron                                             3032\n",
       "Miscellaneous Other                                           2688\n",
       "Injured or ill Customer (On Train) - Medical Aid Refused      1997\n",
       "Escalator/Elevator Incident                                   1640\n",
       "Operator Violated Signal                                      1488\n",
       "Miscellaneous General Delays                                  1423\n",
       "Injured or ill Customer (On Train) - Transported              1358\n",
       "Speed Control Equipment                                       1295\n",
       "Injured or ill Customer (In Station) - Medical Aid Refused    1199\n",
       "Door Problems - Faulty Equipment                              1059\n",
       "Passenger Other                                                985\n",
       "Name: incident_description, dtype: int64"
      ]
     },
     "execution_count": 39,
     "metadata": {},
     "output_type": "execute_result"
    }
   ],
   "source": [
    "sub_delay['incident_description'].value_counts().head(15)"
   ]
  },
  {
   "cell_type": "code",
   "execution_count": 40,
   "metadata": {},
   "outputs": [
    {
     "name": "stdout",
     "output_type": "stream",
     "text": [
      "date (1094,)\n",
      "time (1424,)\n",
      "station (474,)\n",
      "line (4,)\n",
      "bound (5,)\n",
      "min_delay (138,)\n",
      "code (201,)\n",
      "incident_description (139,)\n",
      "vehicle (896,)\n"
     ]
    },
    {
     "data": {
      "text/plain": [
       "[None, None, None, None, None, None, None, None, None]"
      ]
     },
     "execution_count": 40,
     "metadata": {},
     "output_type": "execute_result"
    }
   ],
   "source": [
    "[print(i,sub_delay[i].value_counts().shape) for i in sub_delay.columns]"
   ]
  },
  {
   "cell_type": "code",
   "execution_count": 41,
   "metadata": {},
   "outputs": [
    {
     "data": {
      "text/plain": [
       "date                       0\n",
       "time                       0\n",
       "station                    0\n",
       "line                       0\n",
       "bound                      0\n",
       "min_delay                  0\n",
       "code                       1\n",
       "incident_description    1145\n",
       "vehicle                    0\n",
       "dtype: int64"
      ]
     },
     "execution_count": 41,
     "metadata": {},
     "output_type": "execute_result"
    }
   ],
   "source": [
    "sub_delay.isna().sum()"
   ]
  },
  {
   "cell_type": "code",
   "execution_count": 42,
   "metadata": {},
   "outputs": [],
   "source": [
    "#Where descriptions didnt match code we will replace it with `not given`\n",
    "sub_delay['incident_description'].fillna('Not Given', inplace = True)"
   ]
  },
  {
   "cell_type": "code",
   "execution_count": 43,
   "metadata": {},
   "outputs": [],
   "source": [
    "#filling one missing value with unknown\n",
    "sub_delay['code'].fillna('Unknown', inplace = True)"
   ]
  },
  {
   "cell_type": "code",
   "execution_count": 44,
   "metadata": {
    "scrolled": true
   },
   "outputs": [
    {
     "data": {
      "text/plain": [
       "Miscellaneous Speed Control                                   7609\n",
       "Operator Overspeeding                                         4994\n",
       "Injured or ill Customer (In Station) - Transported            4805\n",
       "Passenger Assistance Alarm Activated - No Trouble Found       4319\n",
       "Disorderly Patron                                             3032\n",
       "Miscellaneous Other                                           2688\n",
       "Injured or ill Customer (On Train) - Medical Aid Refused      1997\n",
       "Escalator/Elevator Incident                                   1640\n",
       "Operator Violated Signal                                      1488\n",
       "Miscellaneous General Delays                                  1423\n",
       "Injured or ill Customer (On Train) - Transported              1358\n",
       "Speed Control Equipment                                       1295\n",
       "Injured or ill Customer (In Station) - Medical Aid Refused    1199\n",
       "Not Given                                                     1145\n",
       "Door Problems - Faulty Equipment                              1059\n",
       "Name: incident_description, dtype: int64"
      ]
     },
     "execution_count": 44,
     "metadata": {},
     "output_type": "execute_result"
    }
   ],
   "source": [
    "sub_delay['incident_description'].value_counts().head(15)"
   ]
  },
  {
   "cell_type": "code",
   "execution_count": 45,
   "metadata": {
    "scrolled": false
   },
   "outputs": [
    {
     "data": {
      "text/html": [
       "<div>\n",
       "<style scoped>\n",
       "    .dataframe tbody tr th:only-of-type {\n",
       "        vertical-align: middle;\n",
       "    }\n",
       "\n",
       "    .dataframe tbody tr th {\n",
       "        vertical-align: top;\n",
       "    }\n",
       "\n",
       "    .dataframe thead th {\n",
       "        text-align: right;\n",
       "    }\n",
       "</style>\n",
       "<table border=\"1\" class=\"dataframe\">\n",
       "  <thead>\n",
       "    <tr style=\"text-align: right;\">\n",
       "      <th></th>\n",
       "      <th>date</th>\n",
       "      <th>time</th>\n",
       "      <th>station</th>\n",
       "      <th>line</th>\n",
       "      <th>bound</th>\n",
       "      <th>min_delay</th>\n",
       "      <th>code</th>\n",
       "      <th>incident_description</th>\n",
       "      <th>vehicle</th>\n",
       "    </tr>\n",
       "  </thead>\n",
       "  <tbody>\n",
       "    <tr>\n",
       "      <th>0</th>\n",
       "      <td>2017-01-01</td>\n",
       "      <td>00:29</td>\n",
       "      <td>kennedy_station</td>\n",
       "      <td>2-BD</td>\n",
       "      <td>West</td>\n",
       "      <td>0</td>\n",
       "      <td>MUSC</td>\n",
       "      <td>Miscellaneous Speed Control</td>\n",
       "      <td>5159</td>\n",
       "    </tr>\n",
       "    <tr>\n",
       "      <th>1</th>\n",
       "      <td>2017-01-01</td>\n",
       "      <td>01:35</td>\n",
       "      <td>islington_station</td>\n",
       "      <td>2-BD</td>\n",
       "      <td>East</td>\n",
       "      <td>0</td>\n",
       "      <td>MUSC</td>\n",
       "      <td>Miscellaneous Speed Control</td>\n",
       "      <td>5296</td>\n",
       "    </tr>\n",
       "    <tr>\n",
       "      <th>2</th>\n",
       "      <td>2017-01-01</td>\n",
       "      <td>03:00</td>\n",
       "      <td>lawrence_station</td>\n",
       "      <td>1-YU</td>\n",
       "      <td>South</td>\n",
       "      <td>4</td>\n",
       "      <td>EUDO</td>\n",
       "      <td>Door Problems - Faulty Equipment</td>\n",
       "      <td>6056</td>\n",
       "    </tr>\n",
       "    <tr>\n",
       "      <th>3</th>\n",
       "      <td>2017-01-01</td>\n",
       "      <td>04:06</td>\n",
       "      <td>greenwood_yard</td>\n",
       "      <td>2-BD</td>\n",
       "      <td>Unknown</td>\n",
       "      <td>0</td>\n",
       "      <td>SUUT</td>\n",
       "      <td>Unauthorized at Track Level</td>\n",
       "      <td>0</td>\n",
       "    </tr>\n",
       "    <tr>\n",
       "      <th>4</th>\n",
       "      <td>2017-01-01</td>\n",
       "      <td>04:20</td>\n",
       "      <td>sheppard_station</td>\n",
       "      <td>4-SHP</td>\n",
       "      <td>West</td>\n",
       "      <td>0</td>\n",
       "      <td>PUCSS</td>\n",
       "      <td>Central Office Signalling System</td>\n",
       "      <td>6171</td>\n",
       "    </tr>\n",
       "  </tbody>\n",
       "</table>\n",
       "</div>"
      ],
      "text/plain": [
       "        date   time            station   line    bound  min_delay   code  \\\n",
       "0 2017-01-01  00:29    kennedy_station   2-BD     West          0   MUSC   \n",
       "1 2017-01-01  01:35  islington_station   2-BD     East          0   MUSC   \n",
       "2 2017-01-01  03:00   lawrence_station   1-YU    South          4   EUDO   \n",
       "3 2017-01-01  04:06     greenwood_yard   2-BD  Unknown          0   SUUT   \n",
       "4 2017-01-01  04:20   sheppard_station  4-SHP     West          0  PUCSS   \n",
       "\n",
       "               incident_description  vehicle  \n",
       "0       Miscellaneous Speed Control     5159  \n",
       "1       Miscellaneous Speed Control     5296  \n",
       "2  Door Problems - Faulty Equipment     6056  \n",
       "3       Unauthorized at Track Level        0  \n",
       "4  Central Office Signalling System     6171  "
      ]
     },
     "execution_count": 45,
     "metadata": {},
     "output_type": "execute_result"
    }
   ],
   "source": [
    "sub_delay.head()"
   ]
  },
  {
   "cell_type": "code",
   "execution_count": 46,
   "metadata": {},
   "outputs": [],
   "source": [
    "#Making Columns readable by introducing spaces for underscores and capitalizinf first letter\n",
    "sub_delay['station'] = [i.replace('_', ' ').title() for i in sub_delay['station']]\n",
    "sub_delay['incident_description'] = [i.replace('_', ' ').title() for i in sub_delay['incident_description']]"
   ]
  },
  {
   "cell_type": "markdown",
   "metadata": {},
   "source": [
    "### Clean data ready to be used!"
   ]
  },
  {
   "cell_type": "code",
   "execution_count": 47,
   "metadata": {},
   "outputs": [],
   "source": [
    "#writing clean csv file to your directory\n",
    "sub_delay.to_csv('sub_delay_17-20.csv')"
   ]
  }
 ],
 "metadata": {
  "kernelspec": {
   "display_name": "Python 3",
   "language": "python",
   "name": "python3"
  },
  "language_info": {
   "codemirror_mode": {
    "name": "ipython",
    "version": 3
   },
   "file_extension": ".py",
   "mimetype": "text/x-python",
   "name": "python",
   "nbconvert_exporter": "python",
   "pygments_lexer": "ipython3",
   "version": "3.7.6"
  }
 },
 "nbformat": 4,
 "nbformat_minor": 4
}
