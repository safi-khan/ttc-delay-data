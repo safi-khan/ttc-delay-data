{
 "cells": [
  {
   "cell_type": "code",
   "execution_count": 1,
   "metadata": {},
   "outputs": [],
   "source": [
    "#importing basic python Libraries for data science work \n",
    "import numpy as np\n",
    "import pandas as pd\n",
    "import matplotlib.pyplot as plt\n",
    "%matplotlib inline\n",
    "import seaborn as sns"
   ]
  },
  {
   "cell_type": "code",
   "execution_count": 2,
   "metadata": {},
   "outputs": [],
   "source": [
    "#Importing raw annual files\n",
    "#These files contain a sheet for each year\n",
    "bus_2017 = pd.ExcelFile('2017.xlsx')\n",
    "bus_2018 = pd.ExcelFile('2018.xlsx')\n",
    "bus_2019 = pd.ExcelFile('2019.xlsx')\n",
    "\n"
   ]
  },
  {
   "cell_type": "code",
   "execution_count": 3,
   "metadata": {},
   "outputs": [],
   "source": [
    "#initializing arrays for months\n",
    "months17 = np.array(bus_2017.sheet_names)\n",
    "months18 = np.array(bus_2018.sheet_names)\n",
    "months19 = np.array(bus_2019.sheet_names)\n"
   ]
  },
  {
   "cell_type": "code",
   "execution_count": 4,
   "metadata": {},
   "outputs": [],
   "source": [
    "# Create a dataframe to append all the sheets of 2017\n",
    "bus_17 = pd.DataFrame()\n",
    "\n",
    "\n",
    "for sheet in months17:\n",
    "    \n",
    "    # Read in the dataframe\n",
    "    df = pd.read_excel(bus_2017, sheet)\n",
    "    \n",
    "    # Append the dataframe onto our 2017 dataframe\n",
    "    bus_17 = pd.concat([bus_17, df])"
   ]
  },
  {
   "cell_type": "code",
   "execution_count": 5,
   "metadata": {},
   "outputs": [
    {
     "data": {
      "text/html": [
       "<div>\n",
       "<style scoped>\n",
       "    .dataframe tbody tr th:only-of-type {\n",
       "        vertical-align: middle;\n",
       "    }\n",
       "\n",
       "    .dataframe tbody tr th {\n",
       "        vertical-align: top;\n",
       "    }\n",
       "\n",
       "    .dataframe thead th {\n",
       "        text-align: right;\n",
       "    }\n",
       "</style>\n",
       "<table border=\"1\" class=\"dataframe\">\n",
       "  <thead>\n",
       "    <tr style=\"text-align: right;\">\n",
       "      <th></th>\n",
       "      <th>Report Date</th>\n",
       "      <th>Route</th>\n",
       "      <th>Time</th>\n",
       "      <th>Day</th>\n",
       "      <th>Location</th>\n",
       "      <th>Incident</th>\n",
       "      <th>Min Delay</th>\n",
       "      <th>Min Gap</th>\n",
       "      <th>Direction</th>\n",
       "      <th>Vehicle</th>\n",
       "    </tr>\n",
       "  </thead>\n",
       "  <tbody>\n",
       "    <tr>\n",
       "      <th>0</th>\n",
       "      <td>2017-01-01</td>\n",
       "      <td>73</td>\n",
       "      <td>00:42:00</td>\n",
       "      <td>Sunday</td>\n",
       "      <td>Claireport at Albion</td>\n",
       "      <td>Mechanical</td>\n",
       "      <td>20.0</td>\n",
       "      <td>20.0</td>\n",
       "      <td>S</td>\n",
       "      <td>8091.0</td>\n",
       "    </tr>\n",
       "    <tr>\n",
       "      <th>1</th>\n",
       "      <td>2017-01-01</td>\n",
       "      <td>75</td>\n",
       "      <td>01:02:00</td>\n",
       "      <td>Sunday</td>\n",
       "      <td>Glen /Elm</td>\n",
       "      <td>Emergency Services</td>\n",
       "      <td>30.0</td>\n",
       "      <td>60.0</td>\n",
       "      <td>n</td>\n",
       "      <td>1821.0</td>\n",
       "    </tr>\n",
       "    <tr>\n",
       "      <th>2</th>\n",
       "      <td>2017-01-01</td>\n",
       "      <td>102</td>\n",
       "      <td>01:20:00</td>\n",
       "      <td>Sunday</td>\n",
       "      <td>Warden Station</td>\n",
       "      <td>Mechanical</td>\n",
       "      <td>10.0</td>\n",
       "      <td>20.0</td>\n",
       "      <td>NaN</td>\n",
       "      <td>8114.0</td>\n",
       "    </tr>\n",
       "    <tr>\n",
       "      <th>3</th>\n",
       "      <td>2017-01-01</td>\n",
       "      <td>120</td>\n",
       "      <td>01:22:00</td>\n",
       "      <td>Sunday</td>\n",
       "      <td>Sheppard at Northover</td>\n",
       "      <td>Mechanical</td>\n",
       "      <td>30.0</td>\n",
       "      <td>60.0</td>\n",
       "      <td>e</td>\n",
       "      <td>8548.0</td>\n",
       "    </tr>\n",
       "    <tr>\n",
       "      <th>4</th>\n",
       "      <td>2017-01-01</td>\n",
       "      <td>83</td>\n",
       "      <td>01:30:00</td>\n",
       "      <td>Sunday</td>\n",
       "      <td>Donlands station</td>\n",
       "      <td>Mechanical</td>\n",
       "      <td>30.0</td>\n",
       "      <td>60.0</td>\n",
       "      <td>NaN</td>\n",
       "      <td>8127.0</td>\n",
       "    </tr>\n",
       "  </tbody>\n",
       "</table>\n",
       "</div>"
      ],
      "text/plain": [
       "  Report Date  Route      Time     Day               Location  \\\n",
       "0  2017-01-01     73  00:42:00  Sunday   Claireport at Albion   \n",
       "1  2017-01-01     75  01:02:00  Sunday              Glen /Elm   \n",
       "2  2017-01-01    102  01:20:00  Sunday         Warden Station   \n",
       "3  2017-01-01    120  01:22:00  Sunday  Sheppard at Northover   \n",
       "4  2017-01-01     83  01:30:00  Sunday       Donlands station   \n",
       "\n",
       "             Incident  Min Delay  Min Gap Direction  Vehicle  \n",
       "0          Mechanical       20.0     20.0         S   8091.0  \n",
       "1  Emergency Services       30.0     60.0         n   1821.0  \n",
       "2          Mechanical       10.0     20.0       NaN   8114.0  \n",
       "3          Mechanical       30.0     60.0         e   8548.0  \n",
       "4          Mechanical       30.0     60.0       NaN   8127.0  "
      ]
     },
     "execution_count": 5,
     "metadata": {},
     "output_type": "execute_result"
    }
   ],
   "source": [
    "bus_17.head()"
   ]
  },
  {
   "cell_type": "code",
   "execution_count": 6,
   "metadata": {},
   "outputs": [],
   "source": [
    "# Create a dataframe to append all the sheets of 2018\n",
    "bus_18 = pd.DataFrame()\n",
    "\n",
    "\n",
    "for sheet in months18:\n",
    "    \n",
    "    # Read in the dataframe \n",
    "    df = pd.read_excel(bus_2018, sheet)\n",
    "    \n",
    "    # Append the dataframe onto our 2018 dataframe\n",
    "    bus_18 = pd.concat([bus_18, df])"
   ]
  },
  {
   "cell_type": "code",
   "execution_count": 7,
   "metadata": {},
   "outputs": [
    {
     "data": {
      "text/html": [
       "<div>\n",
       "<style scoped>\n",
       "    .dataframe tbody tr th:only-of-type {\n",
       "        vertical-align: middle;\n",
       "    }\n",
       "\n",
       "    .dataframe tbody tr th {\n",
       "        vertical-align: top;\n",
       "    }\n",
       "\n",
       "    .dataframe thead th {\n",
       "        text-align: right;\n",
       "    }\n",
       "</style>\n",
       "<table border=\"1\" class=\"dataframe\">\n",
       "  <thead>\n",
       "    <tr style=\"text-align: right;\">\n",
       "      <th></th>\n",
       "      <th>Report Date</th>\n",
       "      <th>Route</th>\n",
       "      <th>Time</th>\n",
       "      <th>Day</th>\n",
       "      <th>Location</th>\n",
       "      <th>Incident</th>\n",
       "      <th>Min Delay</th>\n",
       "      <th>Min Gap</th>\n",
       "      <th>Direction</th>\n",
       "      <th>Vehicle</th>\n",
       "    </tr>\n",
       "  </thead>\n",
       "  <tbody>\n",
       "    <tr>\n",
       "      <th>0</th>\n",
       "      <td>2018-01-01</td>\n",
       "      <td>165</td>\n",
       "      <td>00:17:00</td>\n",
       "      <td>Monday</td>\n",
       "      <td>Wilson Stn</td>\n",
       "      <td>Mechanical</td>\n",
       "      <td>10.0</td>\n",
       "      <td>20.0</td>\n",
       "      <td>W/B</td>\n",
       "      <td>1291.0</td>\n",
       "    </tr>\n",
       "    <tr>\n",
       "      <th>1</th>\n",
       "      <td>2018-01-01</td>\n",
       "      <td>706</td>\n",
       "      <td>00:20:00</td>\n",
       "      <td>Monday</td>\n",
       "      <td>Birchmount Garage</td>\n",
       "      <td>Utilized Off Route</td>\n",
       "      <td>1.0</td>\n",
       "      <td>1.0</td>\n",
       "      <td>S/B</td>\n",
       "      <td>8123.0</td>\n",
       "    </tr>\n",
       "    <tr>\n",
       "      <th>2</th>\n",
       "      <td>2018-01-01</td>\n",
       "      <td>28</td>\n",
       "      <td>00:30:00</td>\n",
       "      <td>Monday</td>\n",
       "      <td>Davisville Station</td>\n",
       "      <td>Investigation</td>\n",
       "      <td>30.0</td>\n",
       "      <td>60.0</td>\n",
       "      <td>S/B</td>\n",
       "      <td>8306.0</td>\n",
       "    </tr>\n",
       "    <tr>\n",
       "      <th>3</th>\n",
       "      <td>2018-01-01</td>\n",
       "      <td>12</td>\n",
       "      <td>00:55:00</td>\n",
       "      <td>Monday</td>\n",
       "      <td>Kennedy Station</td>\n",
       "      <td>Mechanical</td>\n",
       "      <td>22.0</td>\n",
       "      <td>44.0</td>\n",
       "      <td>S/B</td>\n",
       "      <td>7777.0</td>\n",
       "    </tr>\n",
       "    <tr>\n",
       "      <th>4</th>\n",
       "      <td>2018-01-01</td>\n",
       "      <td>72</td>\n",
       "      <td>00:55:00</td>\n",
       "      <td>Monday</td>\n",
       "      <td>Pape Station</td>\n",
       "      <td>Mechanical</td>\n",
       "      <td>18.0</td>\n",
       "      <td>36.0</td>\n",
       "      <td>NaN</td>\n",
       "      <td>7787.0</td>\n",
       "    </tr>\n",
       "  </tbody>\n",
       "</table>\n",
       "</div>"
      ],
      "text/plain": [
       "  Report Date  Route      Time     Day            Location  \\\n",
       "0  2018-01-01    165  00:17:00  Monday          Wilson Stn   \n",
       "1  2018-01-01    706  00:20:00  Monday   Birchmount Garage   \n",
       "2  2018-01-01     28  00:30:00  Monday  Davisville Station   \n",
       "3  2018-01-01     12  00:55:00  Monday     Kennedy Station   \n",
       "4  2018-01-01     72  00:55:00  Monday        Pape Station   \n",
       "\n",
       "             Incident  Min Delay  Min Gap Direction  Vehicle  \n",
       "0          Mechanical       10.0     20.0       W/B   1291.0  \n",
       "1  Utilized Off Route        1.0      1.0       S/B   8123.0  \n",
       "2       Investigation       30.0     60.0       S/B   8306.0  \n",
       "3          Mechanical       22.0     44.0       S/B   7777.0  \n",
       "4          Mechanical       18.0     36.0       NaN   7787.0  "
      ]
     },
     "execution_count": 7,
     "metadata": {},
     "output_type": "execute_result"
    }
   ],
   "source": [
    "bus_18.head()"
   ]
  },
  {
   "cell_type": "code",
   "execution_count": 8,
   "metadata": {},
   "outputs": [],
   "source": [
    "# Create a dataframe to append all the sheets of 2019\n",
    "bus_19 = pd.DataFrame()\n",
    "\n",
    "\n",
    "for sheet in months19:\n",
    "    \n",
    "    # Read in the dataframe \n",
    "    df = pd.read_excel(bus_2019, sheet)\n",
    "    \n",
    "    # Append the dataframe onto our 2019 dataframe\n",
    "    bus_19 = pd.concat([bus_19, df])"
   ]
  },
  {
   "cell_type": "code",
   "execution_count": 9,
   "metadata": {
    "scrolled": true
   },
   "outputs": [
    {
     "data": {
      "text/html": [
       "<div>\n",
       "<style scoped>\n",
       "    .dataframe tbody tr th:only-of-type {\n",
       "        vertical-align: middle;\n",
       "    }\n",
       "\n",
       "    .dataframe tbody tr th {\n",
       "        vertical-align: top;\n",
       "    }\n",
       "\n",
       "    .dataframe thead th {\n",
       "        text-align: right;\n",
       "    }\n",
       "</style>\n",
       "<table border=\"1\" class=\"dataframe\">\n",
       "  <thead>\n",
       "    <tr style=\"text-align: right;\">\n",
       "      <th></th>\n",
       "      <th>Report Date</th>\n",
       "      <th>Route</th>\n",
       "      <th>Time</th>\n",
       "      <th>Day</th>\n",
       "      <th>Location</th>\n",
       "      <th>Incident</th>\n",
       "      <th>Min Delay</th>\n",
       "      <th>Min Gap</th>\n",
       "      <th>Direction</th>\n",
       "      <th>Vehicle</th>\n",
       "      <th>Incident ID</th>\n",
       "    </tr>\n",
       "  </thead>\n",
       "  <tbody>\n",
       "    <tr>\n",
       "      <th>0</th>\n",
       "      <td>2019-01-01</td>\n",
       "      <td>39</td>\n",
       "      <td>00:13:00</td>\n",
       "      <td>Tuesday</td>\n",
       "      <td>NECR</td>\n",
       "      <td>Mechanical</td>\n",
       "      <td>9.0</td>\n",
       "      <td>18.0</td>\n",
       "      <td>W/B</td>\n",
       "      <td>1794.0</td>\n",
       "      <td>NaN</td>\n",
       "    </tr>\n",
       "    <tr>\n",
       "      <th>1</th>\n",
       "      <td>2019-01-01</td>\n",
       "      <td>111</td>\n",
       "      <td>00:15:00</td>\n",
       "      <td>Tuesday</td>\n",
       "      <td>Eglington</td>\n",
       "      <td>Mechanical</td>\n",
       "      <td>15.0</td>\n",
       "      <td>30.0</td>\n",
       "      <td>S/B</td>\n",
       "      <td>8065.0</td>\n",
       "      <td>NaN</td>\n",
       "    </tr>\n",
       "    <tr>\n",
       "      <th>2</th>\n",
       "      <td>2019-01-01</td>\n",
       "      <td>35</td>\n",
       "      <td>00:18:00</td>\n",
       "      <td>Tuesday</td>\n",
       "      <td>Finch</td>\n",
       "      <td>Mechanical</td>\n",
       "      <td>9.0</td>\n",
       "      <td>18.0</td>\n",
       "      <td>S/B</td>\n",
       "      <td>3275.0</td>\n",
       "      <td>NaN</td>\n",
       "    </tr>\n",
       "    <tr>\n",
       "      <th>3</th>\n",
       "      <td>2019-01-01</td>\n",
       "      <td>25</td>\n",
       "      <td>00:30:00</td>\n",
       "      <td>Tuesday</td>\n",
       "      <td>Don Mills Rd/Eglinton Ave E</td>\n",
       "      <td>Mechanical</td>\n",
       "      <td>9.0</td>\n",
       "      <td>18.0</td>\n",
       "      <td>N/B</td>\n",
       "      <td>8840.0</td>\n",
       "      <td>NaN</td>\n",
       "    </tr>\n",
       "    <tr>\n",
       "      <th>4</th>\n",
       "      <td>2019-01-01</td>\n",
       "      <td>36</td>\n",
       "      <td>00:40:00</td>\n",
       "      <td>Tuesday</td>\n",
       "      <td>Humberwood</td>\n",
       "      <td>Investigation</td>\n",
       "      <td>9.0</td>\n",
       "      <td>18.0</td>\n",
       "      <td>E/B</td>\n",
       "      <td>9119.0</td>\n",
       "      <td>NaN</td>\n",
       "    </tr>\n",
       "  </tbody>\n",
       "</table>\n",
       "</div>"
      ],
      "text/plain": [
       "  Report Date  Route      Time      Day                     Location  \\\n",
       "0  2019-01-01     39  00:13:00  Tuesday                         NECR   \n",
       "1  2019-01-01    111  00:15:00  Tuesday                    Eglington   \n",
       "2  2019-01-01     35  00:18:00  Tuesday                        Finch   \n",
       "3  2019-01-01     25  00:30:00  Tuesday  Don Mills Rd/Eglinton Ave E   \n",
       "4  2019-01-01     36  00:40:00  Tuesday                   Humberwood   \n",
       "\n",
       "        Incident  Min Delay  Min Gap Direction  Vehicle  Incident ID  \n",
       "0     Mechanical        9.0     18.0       W/B   1794.0          NaN  \n",
       "1     Mechanical       15.0     30.0       S/B   8065.0          NaN  \n",
       "2     Mechanical        9.0     18.0       S/B   3275.0          NaN  \n",
       "3     Mechanical        9.0     18.0       N/B   8840.0          NaN  \n",
       "4  Investigation        9.0     18.0       E/B   9119.0          NaN  "
      ]
     },
     "execution_count": 9,
     "metadata": {},
     "output_type": "execute_result"
    }
   ],
   "source": [
    "bus_19.head()"
   ]
  },
  {
   "cell_type": "code",
   "execution_count": 10,
   "metadata": {},
   "outputs": [],
   "source": [
    "#Reset index to ensure the concatination is done smoothly\n",
    "bus_17.reset_index(inplace = True, drop = True )\n",
    "bus_18.reset_index(inplace = True, drop = True )\n",
    "bus_19.reset_index(inplace = True, drop = True )"
   ]
  },
  {
   "cell_type": "code",
   "execution_count": 11,
   "metadata": {},
   "outputs": [],
   "source": [
    "#intializing an array of dfs\n",
    "bus_dfs = [bus_17,bus_18,bus_19]"
   ]
  },
  {
   "cell_type": "code",
   "execution_count": 12,
   "metadata": {},
   "outputs": [],
   "source": [
    "#Creating master df for bus delays\n",
    "bus_delay = pd.DataFrame()\n",
    "\n",
    "for year in bus_dfs:\n",
    "    bus_delay = pd.concat([bus_delay, year])"
   ]
  },
  {
   "cell_type": "code",
   "execution_count": 13,
   "metadata": {},
   "outputs": [],
   "source": [
    "#reset index\n",
    "bus_delay.reset_index(inplace = True, drop = True )"
   ]
  },
  {
   "cell_type": "markdown",
   "metadata": {},
   "source": [
    "The `bus_delay` dataframe is ready to start data wrangling and cleaning."
   ]
  },
  {
   "cell_type": "markdown",
   "metadata": {},
   "source": [
    "### Basic EDA"
   ]
  },
  {
   "cell_type": "code",
   "execution_count": 14,
   "metadata": {
    "scrolled": true
   },
   "outputs": [
    {
     "name": "stdout",
     "output_type": "stream",
     "text": [
      "<class 'pandas.core.frame.DataFrame'>\n",
      "RangeIndex: 206606 entries, 0 to 206605\n",
      "Data columns (total 11 columns):\n",
      " #   Column       Non-Null Count   Dtype         \n",
      "---  ------       --------------   -----         \n",
      " 0   Report Date  206606 non-null  datetime64[ns]\n",
      " 1   Route        206606 non-null  int64         \n",
      " 2   Time         206606 non-null  object        \n",
      " 3   Day          206606 non-null  object        \n",
      " 4   Location     206198 non-null  object        \n",
      " 5   Incident     205671 non-null  object        \n",
      " 6   Min Delay    206222 non-null  float64       \n",
      " 7   Min Gap      205780 non-null  float64       \n",
      " 8   Direction    202056 non-null  object        \n",
      " 9   Vehicle      171904 non-null  float64       \n",
      " 10  Incident ID  5144 non-null    float64       \n",
      "dtypes: datetime64[ns](1), float64(4), int64(1), object(5)\n",
      "memory usage: 17.3+ MB\n"
     ]
    }
   ],
   "source": [
    "bus_delay.info()"
   ]
  },
  {
   "cell_type": "code",
   "execution_count": 15,
   "metadata": {},
   "outputs": [],
   "source": [
    "#standardizing column names\n",
    "bus_delay.columns = [i.replace(' ', '_').lower() for i in bus_delay.columns]"
   ]
  },
  {
   "cell_type": "code",
   "execution_count": 16,
   "metadata": {
    "scrolled": true
   },
   "outputs": [
    {
     "name": "stdout",
     "output_type": "stream",
     "text": [
      "<class 'pandas.core.frame.DataFrame'>\n",
      "RangeIndex: 206606 entries, 0 to 206605\n",
      "Data columns (total 11 columns):\n",
      " #   Column       Non-Null Count   Dtype         \n",
      "---  ------       --------------   -----         \n",
      " 0   report_date  206606 non-null  datetime64[ns]\n",
      " 1   route        206606 non-null  int64         \n",
      " 2   time         206606 non-null  object        \n",
      " 3   day          206606 non-null  object        \n",
      " 4   location     206198 non-null  object        \n",
      " 5   incident     205671 non-null  object        \n",
      " 6   min_delay    206222 non-null  float64       \n",
      " 7   min_gap      205780 non-null  float64       \n",
      " 8   direction    202056 non-null  object        \n",
      " 9   vehicle      171904 non-null  float64       \n",
      " 10  incident_id  5144 non-null    float64       \n",
      "dtypes: datetime64[ns](1), float64(4), int64(1), object(5)\n",
      "memory usage: 17.3+ MB\n"
     ]
    }
   ],
   "source": [
    "bus_delay.info()"
   ]
  },
  {
   "cell_type": "code",
   "execution_count": 17,
   "metadata": {},
   "outputs": [
    {
     "data": {
      "text/plain": [
       "report_date         0\n",
       "route               0\n",
       "time                0\n",
       "day                 0\n",
       "location          408\n",
       "incident          935\n",
       "min_delay         384\n",
       "min_gap           826\n",
       "direction        4550\n",
       "vehicle         34702\n",
       "incident_id    201462\n",
       "dtype: int64"
      ]
     },
     "execution_count": 17,
     "metadata": {},
     "output_type": "execute_result"
    }
   ],
   "source": [
    "#Checking nulls\n",
    "bus_delay.isna().sum()"
   ]
  },
  {
   "cell_type": "code",
   "execution_count": 18,
   "metadata": {},
   "outputs": [],
   "source": [
    "#dropping incident ID for a vast missing values issue\n",
    "bus_delay = bus_delay.drop(['incident_id'], axis = 1)"
   ]
  },
  {
   "cell_type": "code",
   "execution_count": 19,
   "metadata": {},
   "outputs": [],
   "source": [
    "#null values for direction of vehicle assigned to 'Not Available'\n",
    "bus_delay['location'].fillna('not available', inplace = True)"
   ]
  },
  {
   "cell_type": "code",
   "execution_count": 20,
   "metadata": {},
   "outputs": [],
   "source": [
    "#Not available vehicle number assigned to 9999\n",
    "bus_delay['vehicle'].fillna(9999, inplace = True)"
   ]
  },
  {
   "cell_type": "code",
   "execution_count": 21,
   "metadata": {},
   "outputs": [],
   "source": [
    "#Not available incident changed to unknown\n",
    "bus_delay['incident'].fillna('not available', inplace = True)"
   ]
  },
  {
   "cell_type": "code",
   "execution_count": 22,
   "metadata": {},
   "outputs": [],
   "source": [
    "#null values for direction of vehicle assigned to unknown\n",
    "bus_delay['direction'].fillna('unknown', inplace = True)"
   ]
  },
  {
   "cell_type": "code",
   "execution_count": 23,
   "metadata": {},
   "outputs": [
    {
     "data": {
      "text/plain": [
       "report_date      0\n",
       "route            0\n",
       "time             0\n",
       "day              0\n",
       "location         0\n",
       "incident         0\n",
       "min_delay      384\n",
       "min_gap        826\n",
       "direction        0\n",
       "vehicle          0\n",
       "dtype: int64"
      ]
     },
     "execution_count": 23,
     "metadata": {},
     "output_type": "execute_result"
    }
   ],
   "source": [
    "# Checking Whats left of null values\n",
    "bus_delay.isna().sum()"
   ]
  },
  {
   "cell_type": "code",
   "execution_count": 24,
   "metadata": {},
   "outputs": [
    {
     "data": {
      "text/plain": [
       "(206606, 10)"
      ]
     },
     "execution_count": 24,
     "metadata": {},
     "output_type": "execute_result"
    }
   ],
   "source": [
    "bus_delay.shape"
   ]
  },
  {
   "cell_type": "code",
   "execution_count": 25,
   "metadata": {},
   "outputs": [],
   "source": [
    "#dropping all rows with null values now i.e delay or gap data only since that is the primary information\n",
    "#and they account for a relatively small portion of the entire data\n",
    "bus_delay = bus_delay.dropna()\n",
    "bus_delay.reset_index(inplace = True, drop = True )"
   ]
  },
  {
   "cell_type": "markdown",
   "metadata": {},
   "source": [
    "--- \n",
    "## Data Cleaning\n",
    "----\n",
    "\n",
    "#### Cleaning direction column"
   ]
  },
  {
   "cell_type": "code",
   "execution_count": 26,
   "metadata": {
    "scrolled": false
   },
   "outputs": [
    {
     "data": {
      "text/plain": [
       "N/B        33563\n",
       "S/B        31052\n",
       "B/W        30485\n",
       "E/B        29435\n",
       "W/B        27615\n",
       "BW          4863\n",
       "unknown     4537\n",
       "EB          3917\n",
       "NB          3755\n",
       "WB          3666\n",
       "N           3503\n",
       "W           3497\n",
       "E           3366\n",
       "SB          3157\n",
       "S           2923\n",
       "n           1688\n",
       "s           1486\n",
       "n/b         1153\n",
       "nb          1036\n",
       "w           1031\n",
       "s/b         1010\n",
       "sb           950\n",
       "bw           915\n",
       "e            871\n",
       "eb           813\n",
       "Name: direction, dtype: int64"
      ]
     },
     "execution_count": 26,
     "metadata": {},
     "output_type": "execute_result"
    }
   ],
   "source": [
    "#Checking top 25 value count of directions\n",
    "bus_delay['direction'].value_counts().head(25)"
   ]
  },
  {
   "cell_type": "markdown",
   "metadata": {},
   "source": [
    "Apparently, there are 466 ways to write 4 directions. We need to fix this."
   ]
  },
  {
   "cell_type": "code",
   "execution_count": 27,
   "metadata": {},
   "outputs": [],
   "source": [
    "#Make all data lowercase in the direction column\n",
    "bus_delay['direction'] = [i.replace(' ', '').lower() for i in bus_delay['direction']]"
   ]
  },
  {
   "cell_type": "code",
   "execution_count": null,
   "metadata": {},
   "outputs": [],
   "source": []
  },
  {
   "cell_type": "code",
   "execution_count": 28,
   "metadata": {},
   "outputs": [],
   "source": [
    "bus_delay['direction'] = bus_delay['direction'].replace(['e', 'e/b', 'eb','be', 'easts', 'est', 'w/e', 'we'], 'east')\n",
    "\n",
    "bus_delay['direction'] = bus_delay['direction'].replace(['w', 'w/b', 'wb', 'bw', 'b/w', 'o/b', 'wests', 'ob', 'e/w',\n",
    "                                                        'ew'], 'west')\n",
    "\n",
    "bus_delay['direction'] = bus_delay['direction'].replace(['nb', 'n', 'n/b', 'bn', 'up', 'sn'], 'north')\n",
    "\n",
    "bus_delay['direction'] = bus_delay['direction'].replace(['s', 's/b', 'sb', 'bs', 'dn', 'down', 'n/s'], 'south')"
   ]
  },
  {
   "cell_type": "code",
   "execution_count": 29,
   "metadata": {},
   "outputs": [],
   "source": [
    "mapping = {'east': 'east', 'south':'south', 'west':'west', 'north':'north'}\n",
    "bus_delay['direction'] = bus_delay['direction'].map(mapping)"
   ]
  },
  {
   "cell_type": "code",
   "execution_count": 30,
   "metadata": {},
   "outputs": [
    {
     "data": {
      "text/plain": [
       "report_date       0\n",
       "route             0\n",
       "time              0\n",
       "day               0\n",
       "location          0\n",
       "incident          0\n",
       "min_delay         0\n",
       "min_gap           0\n",
       "direction      5455\n",
       "vehicle           0\n",
       "dtype: int64"
      ]
     },
     "execution_count": 30,
     "metadata": {},
     "output_type": "execute_result"
    }
   ],
   "source": [
    "bus_delay.isna().sum()"
   ]
  },
  {
   "cell_type": "code",
   "execution_count": 31,
   "metadata": {},
   "outputs": [],
   "source": [
    "#null values for direction of vehicle assigned to unknown\n",
    "bus_delay['direction'].fillna('unknown', inplace = True)"
   ]
  },
  {
   "cell_type": "code",
   "execution_count": 32,
   "metadata": {},
   "outputs": [
    {
     "data": {
      "text/plain": [
       "west       74774\n",
       "north      45295\n",
       "south      41140\n",
       "east       39051\n",
       "unknown     5455\n",
       "Name: direction, dtype: int64"
      ]
     },
     "execution_count": 32,
     "metadata": {},
     "output_type": "execute_result"
    }
   ],
   "source": [
    "bus_delay['direction'].value_counts()"
   ]
  },
  {
   "cell_type": "code",
   "execution_count": 33,
   "metadata": {},
   "outputs": [],
   "source": [
    "#Changing data type to integer for Vehicle coumn\n",
    "bus_delay['vehicle'] = bus_delay['vehicle'].astype('int')"
   ]
  },
  {
   "cell_type": "markdown",
   "metadata": {},
   "source": [
    "## Lets start cleaning the location column (54287 Unique entries)"
   ]
  },
  {
   "cell_type": "code",
   "execution_count": 34,
   "metadata": {
    "scrolled": true
   },
   "outputs": [
    {
     "data": {
      "text/plain": [
       "(54287,)"
      ]
     },
     "execution_count": 34,
     "metadata": {},
     "output_type": "execute_result"
    }
   ],
   "source": [
    "bus_delay.location.value_counts().shape"
   ]
  },
  {
   "cell_type": "code",
   "execution_count": 35,
   "metadata": {},
   "outputs": [
    {
     "data": {
      "text/plain": [
       "STC                        2975\n",
       "Finch Station              2387\n",
       "Entire Route               2156\n",
       "Kennedy Station            2044\n",
       "Warden Station             1788\n",
       "Kipling Station            1590\n",
       "Wilson Station             1298\n",
       "Main Station               1275\n",
       "Eglinton Station           1261\n",
       "Victoria Park Station       920\n",
       "Entire route                918\n",
       "FSTN                        819\n",
       "Pape Station                805\n",
       "York Mills Station          760\n",
       "Eglinton Yard               759\n",
       "Pioneer Village Station     756\n",
       "Finch Stn                   733\n",
       "ESTN                        715\n",
       "Kennedy STN                 713\n",
       "KENN                        692\n",
       "Keele Station               667\n",
       "Scarborough Town Centre     635\n",
       "Kennedy station             618\n",
       "Broadview Station           607\n",
       "Sheppard West Station       591\n",
       "Name: location, dtype: int64"
      ]
     },
     "execution_count": 35,
     "metadata": {},
     "output_type": "execute_result"
    }
   ],
   "source": [
    "bus_delay.location.value_counts().head(25)"
   ]
  },
  {
   "cell_type": "markdown",
   "metadata": {},
   "source": [
    "#### Standardize the data entries"
   ]
  },
  {
   "cell_type": "code",
   "execution_count": 36,
   "metadata": {},
   "outputs": [],
   "source": [
    "#Standardizing some separators that were used to separate words e.g st. clair would turn into st_clair\n",
    "#iterated over a long range of value counts to pick up on common separators used \n",
    "bus_delay['location'] = [i.replace(' ', '_').lower() for i in bus_delay['location']]\n",
    "bus_delay['location'] = [i.replace('  ', '_') for i in bus_delay['location']]\n",
    "bus_delay['location'] = [i.replace('.', '_') for i in bus_delay['location']]\n",
    "bus_delay['location'] = [i.replace(\"'\", '_') for i in bus_delay['location']]\n",
    "bus_delay['location'] = [i.replace('__', '_') for i in bus_delay['location']]\n",
    "bus_delay['location'] = [i.replace('___', '_') for i in bus_delay['location']]\n",
    "bus_delay['location'] = [i.replace('_-_', '_') for i in bus_delay['location']]\n",
    "bus_delay['location'] = [i.replace('-', '_') for i in bus_delay['location']]\n",
    "bus_delay['location'] = [i.replace('--', '_') for i in bus_delay['location']]\n",
    "\n",
    "#Standardizing some common seprators that were translating to intersection \n",
    "bus_delay['location'] = [i.replace('_nd_', '/') for i in bus_delay['location']]\n",
    "bus_delay['location'] = [i.replace('_and_' , '/') for i in bus_delay['location']]\n",
    "bus_delay['location'] = [i.replace('_/_', '/') for i in bus_delay['location']]\n",
    "bus_delay['location'] = [i.replace('_&_', '/') for i in bus_delay['location']]\n",
    "bus_delay['location'] = [i.replace('_at_', '/') for i in bus_delay['location']]\n",
    "bus_delay['location'] = [i.replace('_on_', '/') for i in bus_delay['location']]\n",
    "bus_delay['location'] = [i.replace('/on_', '/') for i in bus_delay['location']]\n"
   ]
  },
  {
   "cell_type": "code",
   "execution_count": 37,
   "metadata": {},
   "outputs": [
    {
     "data": {
      "text/plain": [
       "entire_route                           3887\n",
       "stc                                    3152\n",
       "kennedy_station                        2869\n",
       "warden_station                         2772\n",
       "finch_station                          2660\n",
       "                                       ... \n",
       "rhgo_to_dons                              1\n",
       "derry_road/airport_road                   1\n",
       "queen_st_east/pape_ave                    1\n",
       "revine_dr_kingston_rd                     1\n",
       "oconnor/st_clair,_pharmacy/eglinton       1\n",
       "Name: location, Length: 39815, dtype: int64"
      ]
     },
     "execution_count": 37,
     "metadata": {},
     "output_type": "execute_result"
    }
   ],
   "source": [
    "bus_delay.location.value_counts()"
   ]
  },
  {
   "cell_type": "code",
   "execution_count": 38,
   "metadata": {},
   "outputs": [],
   "source": [
    "#Changing some common abrevations noticed\n",
    "bus_delay['location'] = [i.replace('stn', 'station') for i in bus_delay['location']]\n",
    "bus_delay['location'] = [i.replace('stations', 'station') for i in bus_delay['location']]\n",
    "bus_delay['location'] = [i.replace('stationq', 'station') for i in bus_delay['location']]\n",
    "bus_delay['location'] = [i.replace('stn_', 'station') for i in bus_delay['location']]\n",
    "bus_delay['location'] = [i.replace('station_', 'station') for i in bus_delay['location']]\n",
    "bus_delay['location'] = [i.replace('young', 'yonge') for i in bus_delay['location']]\n",
    "bus_delay['location'] = [i.replace('young_', 'yonge') for i in bus_delay['location']]\n",
    "bus_delay['location'] = [i.replace('ave.', 'avenue') for i in bus_delay['location']]\n",
    "bus_delay['location'] = [i.replace('ave_', 'avenue') for i in bus_delay['location']]\n",
    "bus_delay['location'] = [i.replace('street', 'st') for i in bus_delay['location']]"
   ]
  },
  {
   "cell_type": "code",
   "execution_count": 39,
   "metadata": {
    "scrolled": true
   },
   "outputs": [
    {
     "data": {
      "text/plain": [
       "kennedy_station                        4405\n",
       "entire_route                           3887\n",
       "warden_station                         3805\n",
       "finch_station                          3786\n",
       "kipling_station                        3280\n",
       "                                       ... \n",
       "on_pine_st                                1\n",
       "antibes/drewry                            1\n",
       "midlanf/danforth                          1\n",
       "kennedy/steeels                           1\n",
       "oconnor/st_clair,_pharmacy/eglinton       1\n",
       "Name: location, Length: 39109, dtype: int64"
      ]
     },
     "execution_count": 39,
     "metadata": {},
     "output_type": "execute_result"
    }
   ],
   "source": [
    "bus_delay.location.value_counts()"
   ]
  },
  {
   "cell_type": "markdown",
   "metadata": {
    "scrolled": true
   },
   "source": [
    "##### A significant drop in unqiue from 54,287 to 39,104 values simply due to standardization. A drop of more than 15,000 enteries."
   ]
  },
  {
   "cell_type": "markdown",
   "metadata": {},
   "source": [
    "---\n",
    "\n",
    "#### Looking closely at the location column we can see most of the bus stops are listed as `street1/street2` since they are in no specific order we will organize them alphabetically to avoid any duplicates."
   ]
  },
  {
   "cell_type": "code",
   "execution_count": 40,
   "metadata": {},
   "outputs": [],
   "source": [
    "bus_delay.reset_index(inplace= True, drop = True)"
   ]
  },
  {
   "cell_type": "code",
   "execution_count": 41,
   "metadata": {},
   "outputs": [],
   "source": [
    "bus_delay.location = bus_delay.location.astype('str')"
   ]
  },
  {
   "cell_type": "code",
   "execution_count": 42,
   "metadata": {},
   "outputs": [],
   "source": [
    "#separate them by '/' and then sort it\n",
    "bus_delay.location = bus_delay.location.str.split('/')\n",
    "for i in np.arange(0, (bus_delay.shape[0])):\n",
    "    bus_delay.location[i].sort()"
   ]
  },
  {
   "cell_type": "code",
   "execution_count": 43,
   "metadata": {},
   "outputs": [],
   "source": [
    "#join the sorted street names back \n",
    "c = bus_delay.location\n",
    "bus_delay.location = [['/'.join(i)] for i in c]"
   ]
  },
  {
   "cell_type": "code",
   "execution_count": 44,
   "metadata": {},
   "outputs": [
    {
     "name": "stderr",
     "output_type": "stream",
     "text": [
      "C:\\Users\\safiu\\Anaconda3\\lib\\site-packages\\ipykernel_launcher.py:2: SettingWithCopyWarning: \n",
      "A value is trying to be set on a copy of a slice from a DataFrame\n",
      "\n",
      "See the caveats in the documentation: https://pandas.pydata.org/pandas-docs/stable/user_guide/indexing.html#returning-a-view-versus-a-copy\n",
      "  \n"
     ]
    }
   ],
   "source": [
    "#Convert array into a string\n",
    "for i in np.arange(0, (bus_delay.shape[0])):\n",
    "    bus_delay.location[i] = bus_delay.location[i][0]"
   ]
  },
  {
   "cell_type": "code",
   "execution_count": 45,
   "metadata": {},
   "outputs": [
    {
     "data": {
      "text/plain": [
       "kennedy_station            4405\n",
       "entire_route               3887\n",
       "warden_station             3805\n",
       "finch_station              3786\n",
       "kipling_station            3280\n",
       "                           ... \n",
       "caledonia_amd_eglinton        1\n",
       "t_3_to_lstation               1\n",
       "jane_north_of_giltspur        1\n",
       "keele_carlingview             1\n",
       "bellamy_rd/eglinton_ave       1\n",
       "Name: location, Length: 35657, dtype: int64"
      ]
     },
     "execution_count": 45,
     "metadata": {},
     "output_type": "execute_result"
    }
   ],
   "source": [
    "bus_delay['location'].value_counts()"
   ]
  },
  {
   "cell_type": "markdown",
   "metadata": {},
   "source": [
    "A further improvement of almost 4,000 enteries"
   ]
  },
  {
   "cell_type": "markdown",
   "metadata": {},
   "source": [
    "#### Digging deeper into locations data to find out  high frequency enteries and group all similar entries into one for better representation"
   ]
  },
  {
   "cell_type": "code",
   "execution_count": 46,
   "metadata": {},
   "outputs": [
    {
     "data": {
      "text/plain": [
       "kennedy_station            4405\n",
       "entire_route               3887\n",
       "warden_station             3805\n",
       "finch_station              3786\n",
       "kipling_station            3280\n",
       "stc                        3152\n",
       "eglinton_station           2785\n",
       "wilson_station             2473\n",
       "main_station               2259\n",
       "pape_station               2015\n",
       "victoria_park_station      1755\n",
       "keele_station              1563\n",
       "don_mills_station          1392\n",
       "eglinton_west_station      1359\n",
       "broadview_station          1350\n",
       "york_mills_station         1298\n",
       "lawrence_station           1231\n",
       "eglinton_yard              1230\n",
       "sheppard_west_station      1166\n",
       "pioneer_village_station    1092\n",
       "jane_station               1030\n",
       "islington_station           846\n",
       "lawrence_west_station       832\n",
       "fstation                    826\n",
       "ossington_station           784\n",
       "davisville_station          776\n",
       "scarborough_town_centre     744\n",
       "lawrence/pine               741\n",
       "kenn                        723\n",
       "estation                    718\n",
       "Name: location, dtype: int64"
      ]
     },
     "execution_count": 46,
     "metadata": {},
     "output_type": "execute_result"
    }
   ],
   "source": [
    "bus_delay.location.value_counts().head(30)"
   ]
  },
  {
   "cell_type": "code",
   "execution_count": 47,
   "metadata": {},
   "outputs": [
    {
     "data": {
      "text/html": [
       "<div>\n",
       "<style scoped>\n",
       "    .dataframe tbody tr th:only-of-type {\n",
       "        vertical-align: middle;\n",
       "    }\n",
       "\n",
       "    .dataframe tbody tr th {\n",
       "        vertical-align: top;\n",
       "    }\n",
       "\n",
       "    .dataframe thead th {\n",
       "        text-align: right;\n",
       "    }\n",
       "</style>\n",
       "<table border=\"1\" class=\"dataframe\">\n",
       "  <thead>\n",
       "    <tr style=\"text-align: right;\">\n",
       "      <th></th>\n",
       "      <th>report_date</th>\n",
       "      <th>route</th>\n",
       "      <th>time</th>\n",
       "      <th>day</th>\n",
       "      <th>location</th>\n",
       "      <th>incident</th>\n",
       "      <th>min_delay</th>\n",
       "      <th>min_gap</th>\n",
       "      <th>direction</th>\n",
       "      <th>vehicle</th>\n",
       "    </tr>\n",
       "  </thead>\n",
       "  <tbody>\n",
       "    <tr>\n",
       "      <th>1008</th>\n",
       "      <td>2017-01-07</td>\n",
       "      <td>53.0</td>\n",
       "      <td>14:25:00</td>\n",
       "      <td>Saturday</td>\n",
       "      <td>fstation</td>\n",
       "      <td>Utilized Off Route</td>\n",
       "      <td>6.0</td>\n",
       "      <td>11.0</td>\n",
       "      <td>east</td>\n",
       "      <td>1148.0</td>\n",
       "    </tr>\n",
       "    <tr>\n",
       "      <th>2351</th>\n",
       "      <td>2017-01-13</td>\n",
       "      <td>53.0</td>\n",
       "      <td>01:41:00</td>\n",
       "      <td>Friday</td>\n",
       "      <td>fstation</td>\n",
       "      <td>Emergency Services</td>\n",
       "      <td>19.0</td>\n",
       "      <td>38.0</td>\n",
       "      <td>east</td>\n",
       "      <td>1147.0</td>\n",
       "    </tr>\n",
       "    <tr>\n",
       "      <th>2588</th>\n",
       "      <td>2017-01-14</td>\n",
       "      <td>39.0</td>\n",
       "      <td>11:46:00</td>\n",
       "      <td>Saturday</td>\n",
       "      <td>fstation</td>\n",
       "      <td>Investigation</td>\n",
       "      <td>6.0</td>\n",
       "      <td>12.0</td>\n",
       "      <td>east</td>\n",
       "      <td>1086.0</td>\n",
       "    </tr>\n",
       "    <tr>\n",
       "      <th>3278</th>\n",
       "      <td>2017-01-19</td>\n",
       "      <td>199.0</td>\n",
       "      <td>00:19:00</td>\n",
       "      <td>Thursday</td>\n",
       "      <td>fstation</td>\n",
       "      <td>Mechanical</td>\n",
       "      <td>9.0</td>\n",
       "      <td>18.0</td>\n",
       "      <td>east</td>\n",
       "      <td>1119.0</td>\n",
       "    </tr>\n",
       "    <tr>\n",
       "      <th>3307</th>\n",
       "      <td>2017-01-19</td>\n",
       "      <td>60.0</td>\n",
       "      <td>06:54:00</td>\n",
       "      <td>Thursday</td>\n",
       "      <td>fstation</td>\n",
       "      <td>Late Leaving Garage</td>\n",
       "      <td>7.0</td>\n",
       "      <td>14.0</td>\n",
       "      <td>west</td>\n",
       "      <td>8443.0</td>\n",
       "    </tr>\n",
       "    <tr>\n",
       "      <th>4537</th>\n",
       "      <td>2017-01-26</td>\n",
       "      <td>53.0</td>\n",
       "      <td>21:35:00</td>\n",
       "      <td>Thursday</td>\n",
       "      <td>fstation</td>\n",
       "      <td>Mechanical</td>\n",
       "      <td>18.0</td>\n",
       "      <td>39.0</td>\n",
       "      <td>east</td>\n",
       "      <td>1228.0</td>\n",
       "    </tr>\n",
       "    <tr>\n",
       "      <th>5096</th>\n",
       "      <td>2017-01-30</td>\n",
       "      <td>39.0</td>\n",
       "      <td>20:44:00</td>\n",
       "      <td>Monday</td>\n",
       "      <td>fstation</td>\n",
       "      <td>Utilized Off Route</td>\n",
       "      <td>16.0</td>\n",
       "      <td>32.0</td>\n",
       "      <td>east</td>\n",
       "      <td>1083.0</td>\n",
       "    </tr>\n",
       "    <tr>\n",
       "      <th>5632</th>\n",
       "      <td>2017-02-03</td>\n",
       "      <td>60.0</td>\n",
       "      <td>05:28:00</td>\n",
       "      <td>Friday</td>\n",
       "      <td>fstation</td>\n",
       "      <td>Late Leaving Garage</td>\n",
       "      <td>9.0</td>\n",
       "      <td>24.0</td>\n",
       "      <td>west</td>\n",
       "      <td>8439.0</td>\n",
       "    </tr>\n",
       "    <tr>\n",
       "      <th>5746</th>\n",
       "      <td>2017-02-03</td>\n",
       "      <td>199.0</td>\n",
       "      <td>15:48:00</td>\n",
       "      <td>Friday</td>\n",
       "      <td>fstation</td>\n",
       "      <td>Late Leaving Garage</td>\n",
       "      <td>12.0</td>\n",
       "      <td>24.0</td>\n",
       "      <td>east</td>\n",
       "      <td>1215.0</td>\n",
       "    </tr>\n",
       "    <tr>\n",
       "      <th>6100</th>\n",
       "      <td>2017-02-06</td>\n",
       "      <td>36.0</td>\n",
       "      <td>14:05:00</td>\n",
       "      <td>Monday</td>\n",
       "      <td>fstation</td>\n",
       "      <td>Mechanical</td>\n",
       "      <td>5.0</td>\n",
       "      <td>10.0</td>\n",
       "      <td>west</td>\n",
       "      <td>9108.0</td>\n",
       "    </tr>\n",
       "    <tr>\n",
       "      <th>7017</th>\n",
       "      <td>2017-02-10</td>\n",
       "      <td>53.0</td>\n",
       "      <td>15:00:00</td>\n",
       "      <td>Friday</td>\n",
       "      <td>fstation</td>\n",
       "      <td>Mechanical</td>\n",
       "      <td>1.0</td>\n",
       "      <td>16.0</td>\n",
       "      <td>east</td>\n",
       "      <td>9072.0</td>\n",
       "    </tr>\n",
       "    <tr>\n",
       "      <th>7232</th>\n",
       "      <td>2017-02-11</td>\n",
       "      <td>53.0</td>\n",
       "      <td>11:21:00</td>\n",
       "      <td>Saturday</td>\n",
       "      <td>fstation</td>\n",
       "      <td>Utilized Off Route</td>\n",
       "      <td>8.0</td>\n",
       "      <td>16.0</td>\n",
       "      <td>east</td>\n",
       "      <td>1754.0</td>\n",
       "    </tr>\n",
       "    <tr>\n",
       "      <th>7240</th>\n",
       "      <td>2017-02-11</td>\n",
       "      <td>199.0</td>\n",
       "      <td>11:27:00</td>\n",
       "      <td>Saturday</td>\n",
       "      <td>fstation</td>\n",
       "      <td>Utilized Off Route</td>\n",
       "      <td>7.0</td>\n",
       "      <td>14.0</td>\n",
       "      <td>east</td>\n",
       "      <td>1775.0</td>\n",
       "    </tr>\n",
       "    <tr>\n",
       "      <th>7251</th>\n",
       "      <td>2017-02-11</td>\n",
       "      <td>39.0</td>\n",
       "      <td>11:32:00</td>\n",
       "      <td>Saturday</td>\n",
       "      <td>fstation</td>\n",
       "      <td>Utilized Off Route</td>\n",
       "      <td>12.0</td>\n",
       "      <td>24.0</td>\n",
       "      <td>east</td>\n",
       "      <td>1270.0</td>\n",
       "    </tr>\n",
       "    <tr>\n",
       "      <th>7252</th>\n",
       "      <td>2017-02-11</td>\n",
       "      <td>199.0</td>\n",
       "      <td>11:34:00</td>\n",
       "      <td>Saturday</td>\n",
       "      <td>fstation</td>\n",
       "      <td>Utilized Off Route</td>\n",
       "      <td>7.0</td>\n",
       "      <td>14.0</td>\n",
       "      <td>east</td>\n",
       "      <td>1140.0</td>\n",
       "    </tr>\n",
       "    <tr>\n",
       "      <th>8215</th>\n",
       "      <td>2017-02-16</td>\n",
       "      <td>53.0</td>\n",
       "      <td>11:15:00</td>\n",
       "      <td>Thursday</td>\n",
       "      <td>fstation</td>\n",
       "      <td>Utilized Off Route</td>\n",
       "      <td>10.0</td>\n",
       "      <td>15.0</td>\n",
       "      <td>east</td>\n",
       "      <td>1208.0</td>\n",
       "    </tr>\n",
       "    <tr>\n",
       "      <th>9323</th>\n",
       "      <td>2017-02-23</td>\n",
       "      <td>60.0</td>\n",
       "      <td>06:26:00</td>\n",
       "      <td>Thursday</td>\n",
       "      <td>fstation</td>\n",
       "      <td>Late Leaving Garage</td>\n",
       "      <td>9.0</td>\n",
       "      <td>19.0</td>\n",
       "      <td>west</td>\n",
       "      <td>8436.0</td>\n",
       "    </tr>\n",
       "    <tr>\n",
       "      <th>9849</th>\n",
       "      <td>2017-02-25</td>\n",
       "      <td>39.0</td>\n",
       "      <td>17:18:00</td>\n",
       "      <td>Saturday</td>\n",
       "      <td>fstation</td>\n",
       "      <td>Mechanical</td>\n",
       "      <td>12.0</td>\n",
       "      <td>24.0</td>\n",
       "      <td>east</td>\n",
       "      <td>1109.0</td>\n",
       "    </tr>\n",
       "    <tr>\n",
       "      <th>10358</th>\n",
       "      <td>2017-02-28</td>\n",
       "      <td>60.0</td>\n",
       "      <td>17:02:00</td>\n",
       "      <td>Tuesday</td>\n",
       "      <td>fstation</td>\n",
       "      <td>Utilized Off Route</td>\n",
       "      <td>7.0</td>\n",
       "      <td>14.0</td>\n",
       "      <td>west</td>\n",
       "      <td>8450.0</td>\n",
       "    </tr>\n",
       "    <tr>\n",
       "      <th>10379</th>\n",
       "      <td>2017-02-28</td>\n",
       "      <td>60.0</td>\n",
       "      <td>17:08:00</td>\n",
       "      <td>Tuesday</td>\n",
       "      <td>fstation</td>\n",
       "      <td>Utilized Off Route</td>\n",
       "      <td>7.0</td>\n",
       "      <td>14.0</td>\n",
       "      <td>west</td>\n",
       "      <td>8469.0</td>\n",
       "    </tr>\n",
       "  </tbody>\n",
       "</table>\n",
       "</div>"
      ],
      "text/plain": [
       "      report_date  route      time       day  location             incident  \\\n",
       "1008   2017-01-07   53.0  14:25:00  Saturday  fstation   Utilized Off Route   \n",
       "2351   2017-01-13   53.0  01:41:00    Friday  fstation   Emergency Services   \n",
       "2588   2017-01-14   39.0  11:46:00  Saturday  fstation        Investigation   \n",
       "3278   2017-01-19  199.0  00:19:00  Thursday  fstation           Mechanical   \n",
       "3307   2017-01-19   60.0  06:54:00  Thursday  fstation  Late Leaving Garage   \n",
       "4537   2017-01-26   53.0  21:35:00  Thursday  fstation           Mechanical   \n",
       "5096   2017-01-30   39.0  20:44:00    Monday  fstation   Utilized Off Route   \n",
       "5632   2017-02-03   60.0  05:28:00    Friday  fstation  Late Leaving Garage   \n",
       "5746   2017-02-03  199.0  15:48:00    Friday  fstation  Late Leaving Garage   \n",
       "6100   2017-02-06   36.0  14:05:00    Monday  fstation           Mechanical   \n",
       "7017   2017-02-10   53.0  15:00:00    Friday  fstation           Mechanical   \n",
       "7232   2017-02-11   53.0  11:21:00  Saturday  fstation   Utilized Off Route   \n",
       "7240   2017-02-11  199.0  11:27:00  Saturday  fstation   Utilized Off Route   \n",
       "7251   2017-02-11   39.0  11:32:00  Saturday  fstation   Utilized Off Route   \n",
       "7252   2017-02-11  199.0  11:34:00  Saturday  fstation   Utilized Off Route   \n",
       "8215   2017-02-16   53.0  11:15:00  Thursday  fstation   Utilized Off Route   \n",
       "9323   2017-02-23   60.0  06:26:00  Thursday  fstation  Late Leaving Garage   \n",
       "9849   2017-02-25   39.0  17:18:00  Saturday  fstation           Mechanical   \n",
       "10358  2017-02-28   60.0  17:02:00   Tuesday  fstation   Utilized Off Route   \n",
       "10379  2017-02-28   60.0  17:08:00   Tuesday  fstation   Utilized Off Route   \n",
       "\n",
       "       min_delay  min_gap direction  vehicle  \n",
       "1008         6.0     11.0      east   1148.0  \n",
       "2351        19.0     38.0      east   1147.0  \n",
       "2588         6.0     12.0      east   1086.0  \n",
       "3278         9.0     18.0      east   1119.0  \n",
       "3307         7.0     14.0      west   8443.0  \n",
       "4537        18.0     39.0      east   1228.0  \n",
       "5096        16.0     32.0      east   1083.0  \n",
       "5632         9.0     24.0      west   8439.0  \n",
       "5746        12.0     24.0      east   1215.0  \n",
       "6100         5.0     10.0      west   9108.0  \n",
       "7017         1.0     16.0      east   9072.0  \n",
       "7232         8.0     16.0      east   1754.0  \n",
       "7240         7.0     14.0      east   1775.0  \n",
       "7251        12.0     24.0      east   1270.0  \n",
       "7252         7.0     14.0      east   1140.0  \n",
       "8215        10.0     15.0      east   1208.0  \n",
       "9323         9.0     19.0      west   8436.0  \n",
       "9849        12.0     24.0      east   1109.0  \n",
       "10358        7.0     14.0      west   8450.0  \n",
       "10379        7.0     14.0      west   8469.0  "
      ]
     },
     "execution_count": 47,
     "metadata": {},
     "output_type": "execute_result"
    }
   ],
   "source": [
    "#Checking what bus routes are related with fstation (24 highest frequency)\n",
    "p = bus_delay.where(bus_delay['location'] == 'fstation')\n",
    "\n",
    "#checking buses routes to see what stations they stop at that might be relevant. \n",
    "#e.g fstation is finch station bus 53 leaves from there\n",
    "p.dropna().head(20)"
   ]
  },
  {
   "cell_type": "markdown",
   "metadata": {},
   "source": [
    "--- "
   ]
  },
  {
   "cell_type": "markdown",
   "metadata": {},
   "source": [
    "### Addressing misspelled location titles with variants using `checkroutes` and `checkexpression` functions"
   ]
  },
  {
   "cell_type": "code",
   "execution_count": 48,
   "metadata": {
    "scrolled": true
   },
   "outputs": [],
   "source": [
    "#Generalizing the code above with a function.it will help us find all high freq but illogical names for locations\n",
    "def checkroutes(location):\n",
    "    ''' takes location title as a string and produces a subset of dataframe\n",
    "    that can be used to find routes using that location '''\n",
    "    \n",
    "    x = bus_delay.where(bus_delay['location'] == location)\n",
    "    x = x.dropna().head(30)\n",
    "    return x"
   ]
  },
  {
   "cell_type": "code",
   "execution_count": 49,
   "metadata": {},
   "outputs": [
    {
     "data": {
      "text/html": [
       "<div>\n",
       "<style scoped>\n",
       "    .dataframe tbody tr th:only-of-type {\n",
       "        vertical-align: middle;\n",
       "    }\n",
       "\n",
       "    .dataframe tbody tr th {\n",
       "        vertical-align: top;\n",
       "    }\n",
       "\n",
       "    .dataframe thead th {\n",
       "        text-align: right;\n",
       "    }\n",
       "</style>\n",
       "<table border=\"1\" class=\"dataframe\">\n",
       "  <thead>\n",
       "    <tr style=\"text-align: right;\">\n",
       "      <th></th>\n",
       "      <th>report_date</th>\n",
       "      <th>route</th>\n",
       "      <th>time</th>\n",
       "      <th>day</th>\n",
       "      <th>location</th>\n",
       "      <th>incident</th>\n",
       "      <th>min_delay</th>\n",
       "      <th>min_gap</th>\n",
       "      <th>direction</th>\n",
       "      <th>vehicle</th>\n",
       "    </tr>\n",
       "  </thead>\n",
       "  <tbody>\n",
       "    <tr>\n",
       "      <th>49</th>\n",
       "      <td>2017-01-01</td>\n",
       "      <td>25.0</td>\n",
       "      <td>07:45:00</td>\n",
       "      <td>Sunday</td>\n",
       "      <td>pstation</td>\n",
       "      <td>Mechanical</td>\n",
       "      <td>30.0</td>\n",
       "      <td>35.0</td>\n",
       "      <td>north</td>\n",
       "      <td>7415.0</td>\n",
       "    </tr>\n",
       "    <tr>\n",
       "      <th>69</th>\n",
       "      <td>2017-01-01</td>\n",
       "      <td>185.0</td>\n",
       "      <td>11:10:00</td>\n",
       "      <td>Sunday</td>\n",
       "      <td>pstation</td>\n",
       "      <td>Mechanical</td>\n",
       "      <td>10.0</td>\n",
       "      <td>20.0</td>\n",
       "      <td>north</td>\n",
       "      <td>7680.0</td>\n",
       "    </tr>\n",
       "    <tr>\n",
       "      <th>185</th>\n",
       "      <td>2017-01-02</td>\n",
       "      <td>185.0</td>\n",
       "      <td>16:30:00</td>\n",
       "      <td>Monday</td>\n",
       "      <td>pstation</td>\n",
       "      <td>Mechanical</td>\n",
       "      <td>10.0</td>\n",
       "      <td>20.0</td>\n",
       "      <td>north</td>\n",
       "      <td>7511.0</td>\n",
       "    </tr>\n",
       "    <tr>\n",
       "      <th>9944</th>\n",
       "      <td>2017-02-26</td>\n",
       "      <td>25.0</td>\n",
       "      <td>11:56:00</td>\n",
       "      <td>Sunday</td>\n",
       "      <td>pstation</td>\n",
       "      <td>Mechanical</td>\n",
       "      <td>8.0</td>\n",
       "      <td>16.0</td>\n",
       "      <td>north</td>\n",
       "      <td>7406.0</td>\n",
       "    </tr>\n",
       "    <tr>\n",
       "      <th>15072</th>\n",
       "      <td>2017-03-30</td>\n",
       "      <td>185.0</td>\n",
       "      <td>08:35:00</td>\n",
       "      <td>Thursday</td>\n",
       "      <td>pstation</td>\n",
       "      <td>Mechanical</td>\n",
       "      <td>8.0</td>\n",
       "      <td>16.0</td>\n",
       "      <td>north</td>\n",
       "      <td>7580.0</td>\n",
       "    </tr>\n",
       "    <tr>\n",
       "      <th>21580</th>\n",
       "      <td>2017-05-05</td>\n",
       "      <td>185.0</td>\n",
       "      <td>17:07:00</td>\n",
       "      <td>Friday</td>\n",
       "      <td>pstation</td>\n",
       "      <td>Mechanical</td>\n",
       "      <td>8.0</td>\n",
       "      <td>16.0</td>\n",
       "      <td>north</td>\n",
       "      <td>7578.0</td>\n",
       "    </tr>\n",
       "    <tr>\n",
       "      <th>35941</th>\n",
       "      <td>2017-07-21</td>\n",
       "      <td>185.0</td>\n",
       "      <td>07:07:00</td>\n",
       "      <td>Friday</td>\n",
       "      <td>pstation</td>\n",
       "      <td>Mechanical</td>\n",
       "      <td>8.0</td>\n",
       "      <td>16.0</td>\n",
       "      <td>north</td>\n",
       "      <td>7515.0</td>\n",
       "    </tr>\n",
       "    <tr>\n",
       "      <th>37761</th>\n",
       "      <td>2017-07-31</td>\n",
       "      <td>25.0</td>\n",
       "      <td>05:33:00</td>\n",
       "      <td>Monday</td>\n",
       "      <td>pstation</td>\n",
       "      <td>Late Leaving Garage</td>\n",
       "      <td>1.0</td>\n",
       "      <td>1.0</td>\n",
       "      <td>north</td>\n",
       "      <td>8624.0</td>\n",
       "    </tr>\n",
       "    <tr>\n",
       "      <th>37772</th>\n",
       "      <td>2017-07-31</td>\n",
       "      <td>185.0</td>\n",
       "      <td>05:58:00</td>\n",
       "      <td>Monday</td>\n",
       "      <td>pstation</td>\n",
       "      <td>Late Leaving Garage</td>\n",
       "      <td>1.0</td>\n",
       "      <td>1.0</td>\n",
       "      <td>north</td>\n",
       "      <td>7455.0</td>\n",
       "    </tr>\n",
       "    <tr>\n",
       "      <th>37791</th>\n",
       "      <td>2017-07-31</td>\n",
       "      <td>185.0</td>\n",
       "      <td>06:23:00</td>\n",
       "      <td>Monday</td>\n",
       "      <td>pstation</td>\n",
       "      <td>Utilized Off Route</td>\n",
       "      <td>8.0</td>\n",
       "      <td>16.0</td>\n",
       "      <td>north</td>\n",
       "      <td>7619.0</td>\n",
       "    </tr>\n",
       "    <tr>\n",
       "      <th>38452</th>\n",
       "      <td>2017-08-03</td>\n",
       "      <td>185.0</td>\n",
       "      <td>06:43:00</td>\n",
       "      <td>Thursday</td>\n",
       "      <td>pstation</td>\n",
       "      <td>Late Leaving Garage</td>\n",
       "      <td>8.0</td>\n",
       "      <td>16.0</td>\n",
       "      <td>west</td>\n",
       "      <td>7709.0</td>\n",
       "    </tr>\n",
       "    <tr>\n",
       "      <th>38901</th>\n",
       "      <td>2017-08-05</td>\n",
       "      <td>25.0</td>\n",
       "      <td>08:00:00</td>\n",
       "      <td>Saturday</td>\n",
       "      <td>pstation</td>\n",
       "      <td>Mechanical</td>\n",
       "      <td>10.0</td>\n",
       "      <td>18.0</td>\n",
       "      <td>north</td>\n",
       "      <td>7560.0</td>\n",
       "    </tr>\n",
       "    <tr>\n",
       "      <th>39065</th>\n",
       "      <td>2017-08-06</td>\n",
       "      <td>25.0</td>\n",
       "      <td>16:03:00</td>\n",
       "      <td>Sunday</td>\n",
       "      <td>pstation</td>\n",
       "      <td>Utilized Off Route</td>\n",
       "      <td>9.0</td>\n",
       "      <td>17.0</td>\n",
       "      <td>north</td>\n",
       "      <td>8613.0</td>\n",
       "    </tr>\n",
       "    <tr>\n",
       "      <th>39075</th>\n",
       "      <td>2017-08-06</td>\n",
       "      <td>185.0</td>\n",
       "      <td>16:07:00</td>\n",
       "      <td>Sunday</td>\n",
       "      <td>pstation</td>\n",
       "      <td>Utilized Off Route</td>\n",
       "      <td>10.0</td>\n",
       "      <td>20.0</td>\n",
       "      <td>north</td>\n",
       "      <td>7402.0</td>\n",
       "    </tr>\n",
       "    <tr>\n",
       "      <th>39101</th>\n",
       "      <td>2017-08-06</td>\n",
       "      <td>710.0</td>\n",
       "      <td>19:10:00</td>\n",
       "      <td>Sunday</td>\n",
       "      <td>pstation</td>\n",
       "      <td>Utilized Off Route</td>\n",
       "      <td>1.0</td>\n",
       "      <td>1.0</td>\n",
       "      <td>north</td>\n",
       "      <td>7658.0</td>\n",
       "    </tr>\n",
       "    <tr>\n",
       "      <th>40086</th>\n",
       "      <td>2017-08-12</td>\n",
       "      <td>25.0</td>\n",
       "      <td>05:00:00</td>\n",
       "      <td>Saturday</td>\n",
       "      <td>pstation</td>\n",
       "      <td>Late Leaving Garage</td>\n",
       "      <td>30.0</td>\n",
       "      <td>50.0</td>\n",
       "      <td>east</td>\n",
       "      <td>8621.0</td>\n",
       "    </tr>\n",
       "    <tr>\n",
       "      <th>40394</th>\n",
       "      <td>2017-08-13</td>\n",
       "      <td>185.0</td>\n",
       "      <td>14:40:00</td>\n",
       "      <td>Sunday</td>\n",
       "      <td>pstation</td>\n",
       "      <td>Utilized Off Route</td>\n",
       "      <td>10.0</td>\n",
       "      <td>20.0</td>\n",
       "      <td>south</td>\n",
       "      <td>7596.0</td>\n",
       "    </tr>\n",
       "    <tr>\n",
       "      <th>40488</th>\n",
       "      <td>2017-08-14</td>\n",
       "      <td>25.0</td>\n",
       "      <td>06:38:00</td>\n",
       "      <td>Monday</td>\n",
       "      <td>pstation</td>\n",
       "      <td>Late Leaving Garage</td>\n",
       "      <td>6.0</td>\n",
       "      <td>13.0</td>\n",
       "      <td>north</td>\n",
       "      <td>7488.0</td>\n",
       "    </tr>\n",
       "    <tr>\n",
       "      <th>40613</th>\n",
       "      <td>2017-08-14</td>\n",
       "      <td>185.0</td>\n",
       "      <td>17:02:00</td>\n",
       "      <td>Monday</td>\n",
       "      <td>pstation</td>\n",
       "      <td>Utilized Off Route</td>\n",
       "      <td>8.0</td>\n",
       "      <td>16.0</td>\n",
       "      <td>north</td>\n",
       "      <td>7646.0</td>\n",
       "    </tr>\n",
       "    <tr>\n",
       "      <th>44693</th>\n",
       "      <td>2017-09-05</td>\n",
       "      <td>25.0</td>\n",
       "      <td>06:52:00</td>\n",
       "      <td>Tuesday</td>\n",
       "      <td>pstation</td>\n",
       "      <td>Late Leaving Garage</td>\n",
       "      <td>6.0</td>\n",
       "      <td>12.0</td>\n",
       "      <td>north</td>\n",
       "      <td>7426.0</td>\n",
       "    </tr>\n",
       "    <tr>\n",
       "      <th>45305</th>\n",
       "      <td>2017-09-07</td>\n",
       "      <td>25.0</td>\n",
       "      <td>15:53:00</td>\n",
       "      <td>Thursday</td>\n",
       "      <td>pstation</td>\n",
       "      <td>Utilized Off Route</td>\n",
       "      <td>5.0</td>\n",
       "      <td>10.0</td>\n",
       "      <td>north</td>\n",
       "      <td>8735.0</td>\n",
       "    </tr>\n",
       "    <tr>\n",
       "      <th>48897</th>\n",
       "      <td>2017-09-23</td>\n",
       "      <td>25.0</td>\n",
       "      <td>14:45:00</td>\n",
       "      <td>Saturday</td>\n",
       "      <td>pstation</td>\n",
       "      <td>Mechanical</td>\n",
       "      <td>9.0</td>\n",
       "      <td>17.0</td>\n",
       "      <td>south</td>\n",
       "      <td>7503.0</td>\n",
       "    </tr>\n",
       "    <tr>\n",
       "      <th>49131</th>\n",
       "      <td>2017-09-25</td>\n",
       "      <td>185.0</td>\n",
       "      <td>05:48:00</td>\n",
       "      <td>Monday</td>\n",
       "      <td>pstation</td>\n",
       "      <td>Late Leaving Garage</td>\n",
       "      <td>10.0</td>\n",
       "      <td>20.0</td>\n",
       "      <td>north</td>\n",
       "      <td>8707.0</td>\n",
       "    </tr>\n",
       "    <tr>\n",
       "      <th>50321</th>\n",
       "      <td>2017-09-29</td>\n",
       "      <td>25.0</td>\n",
       "      <td>15:35:00</td>\n",
       "      <td>Friday</td>\n",
       "      <td>pstation</td>\n",
       "      <td>Late Leaving Garage</td>\n",
       "      <td>6.0</td>\n",
       "      <td>12.0</td>\n",
       "      <td>north</td>\n",
       "      <td>7581.0</td>\n",
       "    </tr>\n",
       "    <tr>\n",
       "      <th>50669</th>\n",
       "      <td>2017-10-02</td>\n",
       "      <td>25.0</td>\n",
       "      <td>06:30:00</td>\n",
       "      <td>Monday</td>\n",
       "      <td>pstation</td>\n",
       "      <td>Late Leaving Garage</td>\n",
       "      <td>5.0</td>\n",
       "      <td>11.0</td>\n",
       "      <td>north</td>\n",
       "      <td>8677.0</td>\n",
       "    </tr>\n",
       "    <tr>\n",
       "      <th>50747</th>\n",
       "      <td>2017-10-02</td>\n",
       "      <td>25.0</td>\n",
       "      <td>11:52:00</td>\n",
       "      <td>Monday</td>\n",
       "      <td>pstation</td>\n",
       "      <td>Utilized Off Route</td>\n",
       "      <td>9.0</td>\n",
       "      <td>17.0</td>\n",
       "      <td>north</td>\n",
       "      <td>7480.0</td>\n",
       "    </tr>\n",
       "    <tr>\n",
       "      <th>52015</th>\n",
       "      <td>2017-10-08</td>\n",
       "      <td>25.0</td>\n",
       "      <td>08:22:00</td>\n",
       "      <td>Sunday</td>\n",
       "      <td>pstation</td>\n",
       "      <td>Late Leaving Garage</td>\n",
       "      <td>8.0</td>\n",
       "      <td>9.0</td>\n",
       "      <td>north</td>\n",
       "      <td>8636.0</td>\n",
       "    </tr>\n",
       "    <tr>\n",
       "      <th>52976</th>\n",
       "      <td>2017-10-13</td>\n",
       "      <td>25.0</td>\n",
       "      <td>04:20:00</td>\n",
       "      <td>Friday</td>\n",
       "      <td>pstation</td>\n",
       "      <td>Late Leaving Garage</td>\n",
       "      <td>14.0</td>\n",
       "      <td>21.0</td>\n",
       "      <td>north</td>\n",
       "      <td>8788.0</td>\n",
       "    </tr>\n",
       "    <tr>\n",
       "      <th>54867</th>\n",
       "      <td>2017-10-21</td>\n",
       "      <td>185.0</td>\n",
       "      <td>15:55:00</td>\n",
       "      <td>Saturday</td>\n",
       "      <td>pstation</td>\n",
       "      <td>Mechanical</td>\n",
       "      <td>10.0</td>\n",
       "      <td>20.0</td>\n",
       "      <td>north</td>\n",
       "      <td>7450.0</td>\n",
       "    </tr>\n",
       "    <tr>\n",
       "      <th>54893</th>\n",
       "      <td>2017-10-21</td>\n",
       "      <td>25.0</td>\n",
       "      <td>18:55:00</td>\n",
       "      <td>Saturday</td>\n",
       "      <td>pstation</td>\n",
       "      <td>Utilized Off Route</td>\n",
       "      <td>8.0</td>\n",
       "      <td>16.0</td>\n",
       "      <td>north</td>\n",
       "      <td>7447.0</td>\n",
       "    </tr>\n",
       "  </tbody>\n",
       "</table>\n",
       "</div>"
      ],
      "text/plain": [
       "      report_date  route      time       day  location             incident  \\\n",
       "49     2017-01-01   25.0  07:45:00    Sunday  pstation           Mechanical   \n",
       "69     2017-01-01  185.0  11:10:00    Sunday  pstation           Mechanical   \n",
       "185    2017-01-02  185.0  16:30:00    Monday  pstation           Mechanical   \n",
       "9944   2017-02-26   25.0  11:56:00    Sunday  pstation           Mechanical   \n",
       "15072  2017-03-30  185.0  08:35:00  Thursday  pstation           Mechanical   \n",
       "21580  2017-05-05  185.0  17:07:00    Friday  pstation           Mechanical   \n",
       "35941  2017-07-21  185.0  07:07:00    Friday  pstation           Mechanical   \n",
       "37761  2017-07-31   25.0  05:33:00    Monday  pstation  Late Leaving Garage   \n",
       "37772  2017-07-31  185.0  05:58:00    Monday  pstation  Late Leaving Garage   \n",
       "37791  2017-07-31  185.0  06:23:00    Monday  pstation   Utilized Off Route   \n",
       "38452  2017-08-03  185.0  06:43:00  Thursday  pstation  Late Leaving Garage   \n",
       "38901  2017-08-05   25.0  08:00:00  Saturday  pstation           Mechanical   \n",
       "39065  2017-08-06   25.0  16:03:00    Sunday  pstation   Utilized Off Route   \n",
       "39075  2017-08-06  185.0  16:07:00    Sunday  pstation   Utilized Off Route   \n",
       "39101  2017-08-06  710.0  19:10:00    Sunday  pstation   Utilized Off Route   \n",
       "40086  2017-08-12   25.0  05:00:00  Saturday  pstation  Late Leaving Garage   \n",
       "40394  2017-08-13  185.0  14:40:00    Sunday  pstation   Utilized Off Route   \n",
       "40488  2017-08-14   25.0  06:38:00    Monday  pstation  Late Leaving Garage   \n",
       "40613  2017-08-14  185.0  17:02:00    Monday  pstation   Utilized Off Route   \n",
       "44693  2017-09-05   25.0  06:52:00   Tuesday  pstation  Late Leaving Garage   \n",
       "45305  2017-09-07   25.0  15:53:00  Thursday  pstation   Utilized Off Route   \n",
       "48897  2017-09-23   25.0  14:45:00  Saturday  pstation           Mechanical   \n",
       "49131  2017-09-25  185.0  05:48:00    Monday  pstation  Late Leaving Garage   \n",
       "50321  2017-09-29   25.0  15:35:00    Friday  pstation  Late Leaving Garage   \n",
       "50669  2017-10-02   25.0  06:30:00    Monday  pstation  Late Leaving Garage   \n",
       "50747  2017-10-02   25.0  11:52:00    Monday  pstation   Utilized Off Route   \n",
       "52015  2017-10-08   25.0  08:22:00    Sunday  pstation  Late Leaving Garage   \n",
       "52976  2017-10-13   25.0  04:20:00    Friday  pstation  Late Leaving Garage   \n",
       "54867  2017-10-21  185.0  15:55:00  Saturday  pstation           Mechanical   \n",
       "54893  2017-10-21   25.0  18:55:00  Saturday  pstation   Utilized Off Route   \n",
       "\n",
       "       min_delay  min_gap direction  vehicle  \n",
       "49          30.0     35.0     north   7415.0  \n",
       "69          10.0     20.0     north   7680.0  \n",
       "185         10.0     20.0     north   7511.0  \n",
       "9944         8.0     16.0     north   7406.0  \n",
       "15072        8.0     16.0     north   7580.0  \n",
       "21580        8.0     16.0     north   7578.0  \n",
       "35941        8.0     16.0     north   7515.0  \n",
       "37761        1.0      1.0     north   8624.0  \n",
       "37772        1.0      1.0     north   7455.0  \n",
       "37791        8.0     16.0     north   7619.0  \n",
       "38452        8.0     16.0      west   7709.0  \n",
       "38901       10.0     18.0     north   7560.0  \n",
       "39065        9.0     17.0     north   8613.0  \n",
       "39075       10.0     20.0     north   7402.0  \n",
       "39101        1.0      1.0     north   7658.0  \n",
       "40086       30.0     50.0      east   8621.0  \n",
       "40394       10.0     20.0     south   7596.0  \n",
       "40488        6.0     13.0     north   7488.0  \n",
       "40613        8.0     16.0     north   7646.0  \n",
       "44693        6.0     12.0     north   7426.0  \n",
       "45305        5.0     10.0     north   8735.0  \n",
       "48897        9.0     17.0     south   7503.0  \n",
       "49131       10.0     20.0     north   8707.0  \n",
       "50321        6.0     12.0     north   7581.0  \n",
       "50669        5.0     11.0     north   8677.0  \n",
       "50747        9.0     17.0     north   7480.0  \n",
       "52015        8.0      9.0     north   8636.0  \n",
       "52976       14.0     21.0     north   8788.0  \n",
       "54867       10.0     20.0     north   7450.0  \n",
       "54893        8.0     16.0     north   7447.0  "
      ]
     },
     "execution_count": 49,
     "metadata": {},
     "output_type": "execute_result"
    }
   ],
   "source": [
    "checkroutes('pstation')"
   ]
  },
  {
   "cell_type": "code",
   "execution_count": 50,
   "metadata": {},
   "outputs": [],
   "source": [
    "#Here we checked against different key words to find matching values to narrow down our results. \n",
    "# words used e.g. like = station or  like =  loop/queen/broadview/spadina/king/cne/dundas/clai/ronc/les/rus/nev\n",
    "def checkexpression(expression):\n",
    "    '''\n",
    "    Takes a string and searches for similar entries in the locations dataframe created inside the functio.\n",
    "    expression must be put inside ''. e.g checkexpression('expression')\n",
    "    '''\n",
    "    assert isinstance(expression, str), \"Please add '' to your expresssion\"\n",
    "    locations = pd.DataFrame(bus_delay['location'].value_counts())\n",
    "    #locations.reset_index(inplace = True)\n",
    "    locations = locations.rename(columns={\"index\": \"location\", \"location\": \"counts\"})\n",
    "    loop_list = locations.filter(like= expression , axis=0)\n",
    "    return loop_list.head(30)"
   ]
  },
  {
   "cell_type": "code",
   "execution_count": 51,
   "metadata": {
    "scrolled": true
   },
   "outputs": [
    {
     "data": {
      "text/plain": [
       "kennedy_station            4405\n",
       "entire_route               3887\n",
       "warden_station             3805\n",
       "finch_station              3786\n",
       "kipling_station            3280\n",
       "stc                        3152\n",
       "eglinton_station           2785\n",
       "wilson_station             2473\n",
       "main_station               2259\n",
       "pape_station               2015\n",
       "victoria_park_station      1755\n",
       "keele_station              1563\n",
       "don_mills_station          1392\n",
       "eglinton_west_station      1359\n",
       "broadview_station          1350\n",
       "york_mills_station         1298\n",
       "lawrence_station           1231\n",
       "eglinton_yard              1230\n",
       "sheppard_west_station      1166\n",
       "pioneer_village_station    1092\n",
       "jane_station               1030\n",
       "islington_station           846\n",
       "lawrence_west_station       832\n",
       "fstation                    826\n",
       "ossington_station           784\n",
       "davisville_station          776\n",
       "scarborough_town_centre     744\n",
       "lawrence/pine               741\n",
       "kenn                        723\n",
       "estation                    718\n",
       "Name: location, dtype: int64"
      ]
     },
     "execution_count": 51,
     "metadata": {},
     "output_type": "execute_result"
    }
   ],
   "source": [
    "bus_delay.location.value_counts().head(30)"
   ]
  },
  {
   "cell_type": "markdown",
   "metadata": {},
   "source": [
    "#### Using the functions above we will allocate all high frequency values to the right location name"
   ]
  },
  {
   "cell_type": "code",
   "execution_count": 52,
   "metadata": {},
   "outputs": [
    {
     "data": {
      "text/html": [
       "<div>\n",
       "<style scoped>\n",
       "    .dataframe tbody tr th:only-of-type {\n",
       "        vertical-align: middle;\n",
       "    }\n",
       "\n",
       "    .dataframe tbody tr th {\n",
       "        vertical-align: top;\n",
       "    }\n",
       "\n",
       "    .dataframe thead th {\n",
       "        text-align: right;\n",
       "    }\n",
       "</style>\n",
       "<table border=\"1\" class=\"dataframe\">\n",
       "  <thead>\n",
       "    <tr style=\"text-align: right;\">\n",
       "      <th></th>\n",
       "      <th>report_date</th>\n",
       "      <th>route</th>\n",
       "      <th>time</th>\n",
       "      <th>day</th>\n",
       "      <th>location</th>\n",
       "      <th>incident</th>\n",
       "      <th>min_delay</th>\n",
       "      <th>min_gap</th>\n",
       "      <th>direction</th>\n",
       "      <th>vehicle</th>\n",
       "    </tr>\n",
       "  </thead>\n",
       "  <tbody>\n",
       "    <tr>\n",
       "      <th>2925</th>\n",
       "      <td>2017-01-17</td>\n",
       "      <td>34.0</td>\n",
       "      <td>05:06:00</td>\n",
       "      <td>Tuesday</td>\n",
       "      <td>estation</td>\n",
       "      <td>Late Leaving Garage</td>\n",
       "      <td>2.0</td>\n",
       "      <td>10.0</td>\n",
       "      <td>east</td>\n",
       "      <td>7622.0</td>\n",
       "    </tr>\n",
       "    <tr>\n",
       "      <th>2930</th>\n",
       "      <td>2017-01-17</td>\n",
       "      <td>34.0</td>\n",
       "      <td>05:47:00</td>\n",
       "      <td>Tuesday</td>\n",
       "      <td>estation</td>\n",
       "      <td>Late Leaving Garage</td>\n",
       "      <td>2.0</td>\n",
       "      <td>12.0</td>\n",
       "      <td>east</td>\n",
       "      <td>7417.0</td>\n",
       "    </tr>\n",
       "    <tr>\n",
       "      <th>3954</th>\n",
       "      <td>2017-01-23</td>\n",
       "      <td>54.0</td>\n",
       "      <td>19:19:00</td>\n",
       "      <td>Monday</td>\n",
       "      <td>estation</td>\n",
       "      <td>Mechanical</td>\n",
       "      <td>13.0</td>\n",
       "      <td>26.0</td>\n",
       "      <td>east</td>\n",
       "      <td>7700.0</td>\n",
       "    </tr>\n",
       "    <tr>\n",
       "      <th>4536</th>\n",
       "      <td>2017-01-26</td>\n",
       "      <td>34.0</td>\n",
       "      <td>21:30:00</td>\n",
       "      <td>Thursday</td>\n",
       "      <td>estation</td>\n",
       "      <td>Utilized Off Route</td>\n",
       "      <td>7.0</td>\n",
       "      <td>14.0</td>\n",
       "      <td>south</td>\n",
       "      <td>7641.0</td>\n",
       "    </tr>\n",
       "    <tr>\n",
       "      <th>5065</th>\n",
       "      <td>2017-01-30</td>\n",
       "      <td>54.0</td>\n",
       "      <td>16:45:00</td>\n",
       "      <td>Monday</td>\n",
       "      <td>estation</td>\n",
       "      <td>Mechanical</td>\n",
       "      <td>19.0</td>\n",
       "      <td>29.0</td>\n",
       "      <td>east</td>\n",
       "      <td>7489.0</td>\n",
       "    </tr>\n",
       "  </tbody>\n",
       "</table>\n",
       "</div>"
      ],
      "text/plain": [
       "     report_date  route      time       day  location             incident  \\\n",
       "2925  2017-01-17   34.0  05:06:00   Tuesday  estation  Late Leaving Garage   \n",
       "2930  2017-01-17   34.0  05:47:00   Tuesday  estation  Late Leaving Garage   \n",
       "3954  2017-01-23   54.0  19:19:00    Monday  estation           Mechanical   \n",
       "4536  2017-01-26   34.0  21:30:00  Thursday  estation   Utilized Off Route   \n",
       "5065  2017-01-30   54.0  16:45:00    Monday  estation           Mechanical   \n",
       "\n",
       "      min_delay  min_gap direction  vehicle  \n",
       "2925        2.0     10.0      east   7622.0  \n",
       "2930        2.0     12.0      east   7417.0  \n",
       "3954       13.0     26.0      east   7700.0  \n",
       "4536        7.0     14.0     south   7641.0  \n",
       "5065       19.0     29.0      east   7489.0  "
      ]
     },
     "execution_count": 52,
     "metadata": {},
     "output_type": "execute_result"
    }
   ],
   "source": [
    "checkroutes('estation').head()"
   ]
  },
  {
   "cell_type": "code",
   "execution_count": 53,
   "metadata": {},
   "outputs": [
    {
     "data": {
      "text/html": [
       "<div>\n",
       "<style scoped>\n",
       "    .dataframe tbody tr th:only-of-type {\n",
       "        vertical-align: middle;\n",
       "    }\n",
       "\n",
       "    .dataframe tbody tr th {\n",
       "        vertical-align: top;\n",
       "    }\n",
       "\n",
       "    .dataframe thead th {\n",
       "        text-align: right;\n",
       "    }\n",
       "</style>\n",
       "<table border=\"1\" class=\"dataframe\">\n",
       "  <thead>\n",
       "    <tr style=\"text-align: right;\">\n",
       "      <th></th>\n",
       "      <th>counts</th>\n",
       "    </tr>\n",
       "  </thead>\n",
       "  <tbody>\n",
       "    <tr>\n",
       "      <th>broadview_station</th>\n",
       "      <td>1350</td>\n",
       "    </tr>\n",
       "    <tr>\n",
       "      <th>downsview_station</th>\n",
       "      <td>444</td>\n",
       "    </tr>\n",
       "    <tr>\n",
       "      <th>bayview/eglinton</th>\n",
       "      <td>236</td>\n",
       "    </tr>\n",
       "    <tr>\n",
       "      <th>bayview/steeles</th>\n",
       "      <td>139</td>\n",
       "    </tr>\n",
       "    <tr>\n",
       "      <th>bayview/finch</th>\n",
       "      <td>84</td>\n",
       "    </tr>\n",
       "  </tbody>\n",
       "</table>\n",
       "</div>"
      ],
      "text/plain": [
       "                   counts\n",
       "broadview_station    1350\n",
       "downsview_station     444\n",
       "bayview/eglinton      236\n",
       "bayview/steeles       139\n",
       "bayview/finch          84"
      ]
     },
     "execution_count": 53,
     "metadata": {},
     "output_type": "execute_result"
    }
   ],
   "source": [
    "checkexpression('view').head(5)"
   ]
  },
  {
   "cell_type": "code",
   "execution_count": 54,
   "metadata": {},
   "outputs": [
    {
     "data": {
      "text/plain": [
       "kennedy_station            4405\n",
       "entire_route               3887\n",
       "warden_station             3805\n",
       "finch_station              3786\n",
       "kipling_station            3280\n",
       "                           ... \n",
       "caledonia_amd_eglinton        1\n",
       "t_3_to_lstation               1\n",
       "jane_north_of_giltspur        1\n",
       "keele_carlingview             1\n",
       "bellamy_rd/eglinton_ave       1\n",
       "Name: location, Length: 35657, dtype: int64"
      ]
     },
     "execution_count": 54,
     "metadata": {},
     "output_type": "execute_result"
    }
   ],
   "source": [
    "bus_delay.location.value_counts()"
   ]
  },
  {
   "cell_type": "markdown",
   "metadata": {},
   "source": [
    "#### We will look at each unique entry one by one that are over 100 and accumulate them together"
   ]
  },
  {
   "cell_type": "code",
   "execution_count": 55,
   "metadata": {},
   "outputs": [],
   "source": [
    "bus_delay['location'] = bus_delay['location'].replace(['stc', 'scar_town_centre_station', 'scarborough_town_centre', 'stc_station',\n",
    "                                                       'scarb_town_station', 'scarborough_centre_station', 'scarborough_centre_station',\n",
    "                                                       'scarborough_town_station', 'scarborough_town_centre_station','scarborough_center_station',\n",
    "                                                       'scarborough_town_ctr', 'stc_srt_station', 'scarborough_town_center_rt_station',\n",
    "                                                      'scarborough_town_center_station', 'scarb_town_centre', 'scarbrough_town_centre',\n",
    "                                                       'scarborough_town_centre_rt_station', 'scarbough_town_centre', 'scarborugh_town_centre',\n",
    "                                                       'scarbrough_town_centre', 'scarburough_town_center', 'scarborough_centre', 'stc_srt',\n",
    "                                                       'scarborough_centre_rt'], 'scarborough_town_center')\n",
    "\n",
    "bus_delay['location'] = bus_delay['location'].replace(['kpsn', 'kstation', 'kipling', 'kiping_station', 'kpsn_kipling_station'], 'kipling_station')\n",
    "bus_delay['location'] = bus_delay['location'].replace(['kenn', 'kennedy', 'kenn_station', 'kenndy_station', 'kenendy_station',\n",
    "                                                       'kenedy_station', 'kenneyd_station', 'kennedy__station', 'ken_station'], 'kennedy_station')\n",
    "bus_delay['location'] = bus_delay['location'].replace(['yorkmills_station', 'ykms', 'ykms_station', 'york_mill_station',\n",
    "                                                      'ykms_-_york_mills_station', 'yorkmill_station'],\n",
    "                                                      'york_mills_station')\n",
    "bus_delay['location'] = bus_delay['location'].replace(['fstation', 'finch','fstation_-_finch_station','finch_stationto_old_finch',\n",
    "                                                      'finch/yonge', 'fstationfinch_station'], 'finch_station')\n",
    "bus_delay['location'] = bus_delay['location'].replace(['estation', 'eglinton', 'eg_station', 'egstation', 'eglington_station',\n",
    "                                                      'eglinton__station', 'eglitnon_station', 'eglinton/yonge'], 'eglinton_station')\n",
    "bus_delay['location'] = bus_delay['location'].replace(['eglinton_yard', 'eglintonyard', 'egli_yard'], 'eglinton_garage')\n",
    "bus_delay['location'] = bus_delay['location'].replace('castlefrank_station', 'castle_frank_station')\n",
    "bus_delay['location'] = bus_delay['location'].replace(['bstation', 'bvstation', 'braodview_station', 'broadview_station_loop', 'brodview_station',\n",
    "                                                    'broadveiw_station', 'broadview_station_to_dundas_west_station',\n",
    "                                                    'broadview_and_danforth'], 'broadview_station')\n",
    "bus_delay['location'] = bus_delay['location'].replace('royalyork_station', 'royal_york_station')\n",
    "bus_delay['location'] = bus_delay['location'].replace(['jnst', 'jane'], 'jane_station')\n",
    "bus_delay['location'] = bus_delay['location'].replace(['warden_station.', 'warden', 'wstation', 'wastation', 'warden_staiton', \n",
    "                                                       'warden__station', 'wardent_station'], 'warden_station')\n",
    "bus_delay['location'] = bus_delay['location'].replace(['law_station', 'lstation', 'lawerence_station', 'lawrence__station'], 'lawrence_station')\n",
    "bus_delay['location'] = bus_delay['location'].replace(['eglinton_w_station', 'eg_west_station', 'e.w_station', 'eglinton_wstation',\n",
    "                                                    'eg_w_station', 'egwstation', 'eg._west_station','eglington_west_station',\n",
    "                                                       'eglintion_west_station'], 'eglinton_west_station')\n",
    "bus_delay['location'] = bus_delay['location'].replace(['st._clair_station', 'st.clair_station', 'sstation', 'stclair_station', 'sc_station',\n",
    "                                                    'st_clair_station_@_yonge', 'stclair_station_entrance', 'st_clair_and_yonge'],\n",
    "                                                    'st_clair_station')\n",
    "bus_delay['location'] = bus_delay['location'].replace(['st._clair_west_station', 'st.clair_west_station','st.clair_w_station', 'st_claire_west_station', \n",
    "                                                       'st_clair_w_station', 'st.calir_west_station', 'st_clair_w_station', \n",
    "                                                      'st_clair_wstation', 'st._clair_w_station', 'st._clair_w._station', \n",
    "                                                      'stclair_west_station', 'st_clair_west'], 'st_clair_west_station')\n",
    "bus_delay['location'] = bus_delay['location'].replace(['dundas_w_station', 'dundas_w._station', 'dundas_st_west_station', 'dws', 'dundas_west_station_loop',\n",
    "                                                      'dwstation', 'dwst_-_dundas_west_station', 'dw_station',\n",
    "                                                    'dundas_west_station_to_broadview_station'], 'dundas_west_station')\n",
    "bus_delay['location'] = bus_delay['location'].replace(['vp_station', 'vpstation', 'vic_park_station', 'victora_park_station',\n",
    "                                                       'victoria_pk_station', 'vic_prk_station', 'victoria_station'], 'victoria_park_station')\n",
    "bus_delay['location'] = bus_delay['location'].replace('oldmill_station', 'old_mill_station')\n",
    "bus_delay['location'] = bus_delay['location'].replace(['green_wood_station', 'gstation'], 'greenwood_station')\n",
    "bus_delay['location'] = bus_delay['location'].replace(['donmills_station', 'donmills', 'don_mill_station', 'dons_mills_station'], 'don_mills_station')\n",
    "bus_delay['location'] = bus_delay['location'].replace(['sheppard_w_station', 'sheppard_w._station', 'shepard_west_station',\n",
    "                                                      'swst_-_sheppard_west_station', 'shepperd_west_station',\n",
    "                                                      'shepprd_west_station', 'sheppard_wstation'], 'sheppard_west_station')"
   ]
  },
  {
   "cell_type": "markdown",
   "metadata": {},
   "source": [
    "### Continued... "
   ]
  },
  {
   "cell_type": "code",
   "execution_count": 56,
   "metadata": {},
   "outputs": [],
   "source": [
    "bus_delay['location'] = bus_delay['location'].replace('don_lands_station', 'donlands_station')\n",
    "bus_delay['location'] = bus_delay['location'].replace(['lawrence_w_station', 'l.w_station', 'law_west_station',\n",
    "                                                       'law_w_station', 'lawrence_wstation', 'lawerence_west_station',\n",
    "                                                      'lawrence_w._station', 'lwstation', 'lawrance_west_station'], 'lawrence_west_station')\n",
    "bus_delay['location'] = bus_delay['location'].replace(['sheppard-yonge_station', 'sheppard_yonge_station', 'shepard_station',\n",
    "                                                       'sheppard_and_yonge_station', 'shep_-_sheppard_station', \n",
    "                                                      'sheppard/yonge_station', 'shepp_station', 'shep_station',\n",
    "                                                      'sheppard_-_yonge_station'], 'sheppard_station')\n",
    "bus_delay['location'] = bus_delay['location'].replace(['pioneervillage_station', 'pioneervillage_station', 'pioneer_station',\n",
    "                                                       'pvst_-_pioneer_village_station', 'pioneer_village', 'pvstation',\n",
    "                                                      'poineer_village_station', 'pioneer_vilage_station', 'pvst'], 'pioneer_village_station')\n",
    "bus_delay['location'] = bus_delay['location'].replace(['oss_station', 'ossingto_station', 'ostation', 'ossignton_station',\n",
    "                                                      'osstation'], 'ossington_station')\n",
    "bus_delay['location'] = bus_delay['location'].replace(['pstation', 'pape__station', 'pape_/_pape_station',\n",
    "                                                       'pape_-_pape_station'], 'pape_station')\n",
    "bus_delay['location'] = bus_delay['location'].replace(['mstation', 'main_street_station', 'main_station_closure',\n",
    "                                                       'main_street_/_mstation', 'main_st_station', 'main_station_loop'], 'main_station')\n",
    "bus_delay['location'] = bus_delay['location'].replace(['cstation'], 'coxwell_station')\n",
    "bus_delay['location'] = bus_delay['location'].replace(['istation', 'islinton_station', 'istation_-_islington_station'], 'islington_station')\n",
    "bus_delay['location'] = bus_delay['location'].replace(['finch_w_station', 'fwstation'], 'finch_west_station')\n",
    "bus_delay['location'] = bus_delay['location'].replace(['st.george_station', 'st._george_station'], 'st_george_station')\n",
    "bus_delay['location'] = bus_delay['location'].replace(['donland_station', 'dstation'], 'donlands_station')\n",
    "bus_delay['location'] = bus_delay['location'].replace(['bathrust_station', 'bathurst', 'bathust_station', 'bath_station'], 'bathurst_station')\n",
    "bus_delay['location'] = bus_delay['location'].replace(['wilson_station_lower', 'wilson_station_upper', 'wils_station', \n",
    "                                                       'wils_-_wilson_station', 'wilson'], 'wilson_station')\n",
    "bus_delay['location'] = bus_delay['location'].replace(['keel_station'], 'keele_station')\n",
    "bus_delay['location'] = bus_delay['location'].replace(['castation', 'castlfrank_station'], 'castle_frank_station')\n",
    "bus_delay['location'] = bus_delay['location'].replace(['york_dale_station', 'yorkdale'], 'yorkdale_station')\n",
    "bus_delay['location'] = bus_delay['location'].replace(['lawerence_east_station', 'lawrence_e_srt_station', 'lawrance_rt_station',\n",
    "                                                       'lawrence_s.r.t._station', 'lawrence_east_srt_station'], 'lawrence_east_station')\n",
    "bus_delay['location'] = bus_delay['location'].replace(['highpark_station', 'hpark_station', 'h_park_station'], 'high_park_station')\n",
    "bus_delay['location'] = bus_delay['location'].replace(['woodbin_station'], 'woodbine_station')"
   ]
  },
  {
   "cell_type": "code",
   "execution_count": 57,
   "metadata": {},
   "outputs": [
    {
     "data": {
      "text/plain": [
       "scarborough_town_center    5592\n",
       "kennedy_station            5281\n",
       "finch_station              4997\n",
       "warden_station             4180\n",
       "eglinton_station           4123\n",
       "                           ... \n",
       "westwood_mall                99\n",
       "spadina_station              99\n",
       "lawrence/warden              99\n",
       "dufferin/st_clair            98\n",
       "eglinton/markham             98\n",
       "Name: location, Length: 215, dtype: int64"
      ]
     },
     "execution_count": 57,
     "metadata": {},
     "output_type": "execute_result"
    }
   ],
   "source": [
    "bus_delay.location.value_counts().head(215)"
   ]
  },
  {
   "cell_type": "markdown",
   "metadata": {},
   "source": [
    "We will stop at values with frequency under 100. All values over 100 were audited carefully and added into the cleaning process above."
   ]
  },
  {
   "cell_type": "code",
   "execution_count": 58,
   "metadata": {
    "scrolled": false
   },
   "outputs": [
    {
     "name": "stdout",
     "output_type": "stream",
     "text": [
      "report_date (1095,)\n",
      "route (360,)\n",
      "time (1460,)\n",
      "day (7,)\n",
      "location (35498,)\n",
      "incident (13,)\n",
      "min_delay (747,)\n",
      "min_gap (792,)\n",
      "direction (5,)\n",
      "vehicle (3251,)\n"
     ]
    },
    {
     "data": {
      "text/plain": [
       "[None, None, None, None, None, None, None, None, None, None]"
      ]
     },
     "execution_count": 58,
     "metadata": {},
     "output_type": "execute_result"
    }
   ],
   "source": [
    "[print(i,bus_delay[i].value_counts().shape) for i in bus_delay.columns]"
   ]
  },
  {
   "cell_type": "code",
   "execution_count": null,
   "metadata": {},
   "outputs": [],
   "source": []
  },
  {
   "cell_type": "markdown",
   "metadata": {},
   "source": [
    "#### Location cleaning is complete now. We finished with 35499 enteries, almost 19,000 below our original unique value count. \n",
    "\n",
    "---\n",
    "\n",
    "Addressing date and time columns now"
   ]
  },
  {
   "cell_type": "code",
   "execution_count": 59,
   "metadata": {},
   "outputs": [
    {
     "name": "stdout",
     "output_type": "stream",
     "text": [
      "<class 'pandas.core.frame.DataFrame'>\n",
      "RangeIndex: 205715 entries, 0 to 205714\n",
      "Data columns (total 10 columns):\n",
      " #   Column       Non-Null Count   Dtype         \n",
      "---  ------       --------------   -----         \n",
      " 0   report_date  205715 non-null  datetime64[ns]\n",
      " 1   route        205715 non-null  int64         \n",
      " 2   time         205715 non-null  object        \n",
      " 3   day          205715 non-null  object        \n",
      " 4   location     205715 non-null  object        \n",
      " 5   incident     205715 non-null  object        \n",
      " 6   min_delay    205715 non-null  float64       \n",
      " 7   min_gap      205715 non-null  float64       \n",
      " 8   direction    205715 non-null  object        \n",
      " 9   vehicle      205715 non-null  int32         \n",
      "dtypes: datetime64[ns](1), float64(2), int32(1), int64(1), object(5)\n",
      "memory usage: 14.9+ MB\n"
     ]
    }
   ],
   "source": [
    "bus_delay.info()"
   ]
  },
  {
   "cell_type": "code",
   "execution_count": 60,
   "metadata": {
    "scrolled": false
   },
   "outputs": [
    {
     "data": {
      "text/plain": [
       "03:19:00               8\n",
       "02:22:00               8\n",
       "03:36:00               7\n",
       "03:53:00               6\n",
       "03:49:00               5\n",
       "2019-01-29 00:00:00    2\n",
       "2017-01-26 00:00:00    1\n",
       "2018-10-03 00:00:00    1\n",
       "2018-01-02 00:00:00    1\n",
       "2018-02-07 00:00:00    1\n",
       "2018-02-06 00:00:00    1\n",
       "2017-02-12 00:00:00    1\n",
       "2019-06-06 00:00:00    1\n",
       "2018-02-02 00:00:00    1\n",
       "2018-05-21 00:00:00    1\n",
       "2019-05-09 00:00:00    1\n",
       "2018-05-10 00:00:00    1\n",
       "2019-06-29 00:00:00    1\n",
       "2017-06-25 00:00:00    1\n",
       "2018-05-18 00:00:00    1\n",
       "2017-05-28 00:00:00    1\n",
       "2017-12-21 00:00:00    1\n",
       "2018-09-12 00:00:00    1\n",
       "2017-04-01 00:00:00    1\n",
       "2018-02-26 00:00:00    1\n",
       "Name: time, dtype: int64"
      ]
     },
     "execution_count": 60,
     "metadata": {},
     "output_type": "execute_result"
    }
   ],
   "source": [
    "bus_delay['time'].value_counts().tail(25)"
   ]
  },
  {
   "cell_type": "code",
   "execution_count": 61,
   "metadata": {},
   "outputs": [],
   "source": [
    "bus_delay['time'] = bus_delay['time'].replace(['2019-01-29 00:00:00', '2018-10-03 00:00:00', '2017-06-25 00:00:00', \n",
    "                                              '2018-05-10 00:00:00', '2018-05-21 00:00:00', '2017-04-01 00:00:00', \n",
    "                                              '2019-05-09 00:00:00', '2018-02-26 00:00:00', '2018-02-07 00:00:00', \n",
    "                                              '2020-04-14 00:00:00', '2017-01-26 00:00:00', '2018-05-18 00:00:00', \n",
    "                                              '2017-12-21 00:00:00', '2020-01-20 00:00:00', '2017-05-28 00:00:00', \n",
    "                                              '2020-02-21 00:00:00', '2018-01-02 00:00:00', '2019-06-06 00:00:00', \n",
    "                                              '2018-09-12 00:00:00', '2018-02-06 00:00:00', '2017-02-12 00:00:00', \n",
    "                                              '2019-06-29 00:00:00', '2018-02-02 00:00:00'] , '00:00:00')"
   ]
  },
  {
   "cell_type": "code",
   "execution_count": null,
   "metadata": {},
   "outputs": [],
   "source": []
  },
  {
   "cell_type": "code",
   "execution_count": 62,
   "metadata": {},
   "outputs": [
    {
     "data": {
      "text/plain": [
       "\"bus_delay['month'] = pd.DatetimeIndex(bus_delay['report_date']).month\\nbus_delay['year'] = pd.DatetimeIndex(bus_delay['report_date']).year\""
      ]
     },
     "execution_count": 62,
     "metadata": {},
     "output_type": "execute_result"
    }
   ],
   "source": [
    "'''bus_delay['month'] = pd.DatetimeIndex(bus_delay['report_date']).month\n",
    "bus_delay['year'] = pd.DatetimeIndex(bus_delay['report_date']).year'''"
   ]
  },
  {
   "cell_type": "code",
   "execution_count": 63,
   "metadata": {
    "scrolled": true
   },
   "outputs": [
    {
     "data": {
      "text/plain": [
       "\"bus_delay['time'] = pd.to_datetime(bus_delay['time'], format='%H:%M:%S')\""
      ]
     },
     "execution_count": 63,
     "metadata": {},
     "output_type": "execute_result"
    }
   ],
   "source": [
    "'''bus_delay['time'] = pd.to_datetime(bus_delay['time'], format='%H:%M:%S')'''"
   ]
  },
  {
   "cell_type": "code",
   "execution_count": 64,
   "metadata": {},
   "outputs": [
    {
     "data": {
      "text/plain": [
       "\"bus_delay['time(hour)'] = bus_delay['time'].dt.round('H').dt.hour\""
      ]
     },
     "execution_count": 64,
     "metadata": {},
     "output_type": "execute_result"
    }
   ],
   "source": [
    "'''bus_delay['time(hour)'] = bus_delay['time'].dt.round('H').dt.hour'''"
   ]
  },
  {
   "cell_type": "code",
   "execution_count": 65,
   "metadata": {},
   "outputs": [
    {
     "data": {
      "text/plain": [
       "\"bus_delay['time(hour)'].value_counts()\""
      ]
     },
     "execution_count": 65,
     "metadata": {},
     "output_type": "execute_result"
    }
   ],
   "source": [
    "'''bus_delay['time(hour)'].value_counts()'''"
   ]
  },
  {
   "cell_type": "code",
   "execution_count": 66,
   "metadata": {},
   "outputs": [
    {
     "data": {
      "text/plain": [
       "\"bus_delay['day'].value_counts()\""
      ]
     },
     "execution_count": 66,
     "metadata": {},
     "output_type": "execute_result"
    }
   ],
   "source": [
    "'''bus_delay['day'].value_counts()'''"
   ]
  },
  {
   "cell_type": "code",
   "execution_count": 67,
   "metadata": {},
   "outputs": [
    {
     "data": {
      "text/plain": [
       "Mechanical                          66785\n",
       "Utilized Off Route                  33510\n",
       "General Delay                       32358\n",
       "Late Leaving Garage                 28783\n",
       "Investigation                       22641\n",
       "Diversion                           14469\n",
       "Emergency Services                   4638\n",
       "not available                         928\n",
       "Late Leaving Garage - Mechanical      635\n",
       "Vision                                468\n",
       "Late Leaving Garage - Operator        326\n",
       "Late Leaving Garage - Management      121\n",
       "Late Leaving Garage - Vision           53\n",
       "Name: incident, dtype: int64"
      ]
     },
     "execution_count": 67,
     "metadata": {},
     "output_type": "execute_result"
    }
   ],
   "source": [
    "bus_delay['incident'].value_counts()"
   ]
  },
  {
   "cell_type": "code",
   "execution_count": 68,
   "metadata": {},
   "outputs": [],
   "source": [
    "bus_delay['incident'] = bus_delay['incident'].replace(['Late Leaving Garage - Mechanical', 'Late Leaving Garage - Management',\n",
    "                                                      'Late Leaving Garage - Operator', 'Vision', 'Late Leaving Garage - Vision',\n",
    "                                                      'Management'], 'Late Leaving Garage')"
   ]
  },
  {
   "cell_type": "code",
   "execution_count": 69,
   "metadata": {},
   "outputs": [
    {
     "name": "stdout",
     "output_type": "stream",
     "text": [
      "report_date (1095,)\n",
      "route (360,)\n",
      "time (1460,)\n",
      "day (7,)\n",
      "location (35498,)\n",
      "incident (8,)\n",
      "min_delay (747,)\n",
      "min_gap (792,)\n",
      "direction (5,)\n",
      "vehicle (3251,)\n"
     ]
    },
    {
     "data": {
      "text/plain": [
       "[None, None, None, None, None, None, None, None, None, None]"
      ]
     },
     "execution_count": 69,
     "metadata": {},
     "output_type": "execute_result"
    }
   ],
   "source": [
    "#checking all value counts\n",
    "[print(i,bus_delay[i].value_counts().shape) for i in bus_delay.columns]"
   ]
  },
  {
   "cell_type": "code",
   "execution_count": 70,
   "metadata": {
    "scrolled": false
   },
   "outputs": [
    {
     "data": {
      "text/plain": [
       "report_date    0\n",
       "route          0\n",
       "time           0\n",
       "day            0\n",
       "location       0\n",
       "incident       0\n",
       "min_delay      0\n",
       "min_gap        0\n",
       "direction      0\n",
       "vehicle        0\n",
       "dtype: int64"
      ]
     },
     "execution_count": 70,
     "metadata": {},
     "output_type": "execute_result"
    }
   ],
   "source": [
    "#rechecking for nulls\n",
    "bus_delay.isna().sum()"
   ]
  },
  {
   "cell_type": "code",
   "execution_count": 71,
   "metadata": {},
   "outputs": [],
   "source": [
    "# lets reorganize the columns and drop time column in the process to avoid repeition. \n",
    "\n",
    "bus_delay=bus_delay[['report_date','time','day','route','location','direction','min_delay','min_gap','incident','vehicle']]\n",
    "                        "
   ]
  },
  {
   "cell_type": "code",
   "execution_count": 72,
   "metadata": {},
   "outputs": [],
   "source": [
    "#changing data types to int\n",
    "bus_delay['min_gap'] = bus_delay['min_gap'].astype('int')\n",
    "bus_delay['min_delay'] = bus_delay['min_delay'].astype('int')"
   ]
  },
  {
   "cell_type": "markdown",
   "metadata": {},
   "source": [
    "#### Lets make the location column more readable."
   ]
  },
  {
   "cell_type": "code",
   "execution_count": 73,
   "metadata": {},
   "outputs": [],
   "source": [
    "#Making Columns readable\n",
    "bus_delay['location'] = [i.replace('_', ' ').title() for i in bus_delay['location']]\n",
    "bus_delay['location'] = [i.replace('/', ' / ').title() for i in bus_delay['location']]\n",
    "bus_delay['direction'] = [i.replace(' ', '').title() for i in bus_delay['direction']]"
   ]
  },
  {
   "cell_type": "code",
   "execution_count": 74,
   "metadata": {},
   "outputs": [
    {
     "data": {
      "text/html": [
       "<div>\n",
       "<style scoped>\n",
       "    .dataframe tbody tr th:only-of-type {\n",
       "        vertical-align: middle;\n",
       "    }\n",
       "\n",
       "    .dataframe tbody tr th {\n",
       "        vertical-align: top;\n",
       "    }\n",
       "\n",
       "    .dataframe thead th {\n",
       "        text-align: right;\n",
       "    }\n",
       "</style>\n",
       "<table border=\"1\" class=\"dataframe\">\n",
       "  <thead>\n",
       "    <tr style=\"text-align: right;\">\n",
       "      <th></th>\n",
       "      <th>report_date</th>\n",
       "      <th>time</th>\n",
       "      <th>day</th>\n",
       "      <th>route</th>\n",
       "      <th>location</th>\n",
       "      <th>direction</th>\n",
       "      <th>min_delay</th>\n",
       "      <th>min_gap</th>\n",
       "      <th>incident</th>\n",
       "      <th>vehicle</th>\n",
       "    </tr>\n",
       "  </thead>\n",
       "  <tbody>\n",
       "    <tr>\n",
       "      <th>0</th>\n",
       "      <td>2017-01-01</td>\n",
       "      <td>00:42:00</td>\n",
       "      <td>Sunday</td>\n",
       "      <td>73</td>\n",
       "      <td>Albion / Claireport</td>\n",
       "      <td>South</td>\n",
       "      <td>20</td>\n",
       "      <td>20</td>\n",
       "      <td>Mechanical</td>\n",
       "      <td>8091</td>\n",
       "    </tr>\n",
       "    <tr>\n",
       "      <th>1</th>\n",
       "      <td>2017-01-01</td>\n",
       "      <td>01:02:00</td>\n",
       "      <td>Sunday</td>\n",
       "      <td>75</td>\n",
       "      <td>Elm / Glen</td>\n",
       "      <td>North</td>\n",
       "      <td>30</td>\n",
       "      <td>60</td>\n",
       "      <td>Emergency Services</td>\n",
       "      <td>1821</td>\n",
       "    </tr>\n",
       "    <tr>\n",
       "      <th>2</th>\n",
       "      <td>2017-01-01</td>\n",
       "      <td>01:20:00</td>\n",
       "      <td>Sunday</td>\n",
       "      <td>102</td>\n",
       "      <td>Warden Station</td>\n",
       "      <td>Unknown</td>\n",
       "      <td>10</td>\n",
       "      <td>20</td>\n",
       "      <td>Mechanical</td>\n",
       "      <td>8114</td>\n",
       "    </tr>\n",
       "    <tr>\n",
       "      <th>3</th>\n",
       "      <td>2017-01-01</td>\n",
       "      <td>01:22:00</td>\n",
       "      <td>Sunday</td>\n",
       "      <td>120</td>\n",
       "      <td>Northover / Sheppard</td>\n",
       "      <td>East</td>\n",
       "      <td>30</td>\n",
       "      <td>60</td>\n",
       "      <td>Mechanical</td>\n",
       "      <td>8548</td>\n",
       "    </tr>\n",
       "    <tr>\n",
       "      <th>4</th>\n",
       "      <td>2017-01-01</td>\n",
       "      <td>01:30:00</td>\n",
       "      <td>Sunday</td>\n",
       "      <td>83</td>\n",
       "      <td>Donlands Station</td>\n",
       "      <td>Unknown</td>\n",
       "      <td>30</td>\n",
       "      <td>60</td>\n",
       "      <td>Mechanical</td>\n",
       "      <td>8127</td>\n",
       "    </tr>\n",
       "    <tr>\n",
       "      <th>...</th>\n",
       "      <td>...</td>\n",
       "      <td>...</td>\n",
       "      <td>...</td>\n",
       "      <td>...</td>\n",
       "      <td>...</td>\n",
       "      <td>...</td>\n",
       "      <td>...</td>\n",
       "      <td>...</td>\n",
       "      <td>...</td>\n",
       "      <td>...</td>\n",
       "    </tr>\n",
       "    <tr>\n",
       "      <th>205710</th>\n",
       "      <td>2019-12-31</td>\n",
       "      <td>22:45:00</td>\n",
       "      <td>Tuesday</td>\n",
       "      <td>927</td>\n",
       "      <td>Marton Grove / Steels Loop</td>\n",
       "      <td>South</td>\n",
       "      <td>10</td>\n",
       "      <td>20</td>\n",
       "      <td>Mechanical</td>\n",
       "      <td>3560</td>\n",
       "    </tr>\n",
       "    <tr>\n",
       "      <th>205711</th>\n",
       "      <td>2019-12-31</td>\n",
       "      <td>22:50:00</td>\n",
       "      <td>Tuesday</td>\n",
       "      <td>34</td>\n",
       "      <td>Eglinton Station</td>\n",
       "      <td>East</td>\n",
       "      <td>10</td>\n",
       "      <td>20</td>\n",
       "      <td>Mechanical</td>\n",
       "      <td>8685</td>\n",
       "    </tr>\n",
       "    <tr>\n",
       "      <th>205712</th>\n",
       "      <td>2019-12-31</td>\n",
       "      <td>23:02:00</td>\n",
       "      <td>Tuesday</td>\n",
       "      <td>95</td>\n",
       "      <td>Ellesmere / Markham</td>\n",
       "      <td>West</td>\n",
       "      <td>10</td>\n",
       "      <td>20</td>\n",
       "      <td>Mechanical</td>\n",
       "      <td>3404</td>\n",
       "    </tr>\n",
       "    <tr>\n",
       "      <th>205713</th>\n",
       "      <td>2019-12-31</td>\n",
       "      <td>23:24:00</td>\n",
       "      <td>Tuesday</td>\n",
       "      <td>32</td>\n",
       "      <td>Jane / Pine</td>\n",
       "      <td>East</td>\n",
       "      <td>11</td>\n",
       "      <td>22</td>\n",
       "      <td>Mechanical</td>\n",
       "      <td>1120</td>\n",
       "    </tr>\n",
       "    <tr>\n",
       "      <th>205714</th>\n",
       "      <td>2019-12-31</td>\n",
       "      <td>23:31:00</td>\n",
       "      <td>Tuesday</td>\n",
       "      <td>39</td>\n",
       "      <td>Crow Trail / Neilson</td>\n",
       "      <td>West</td>\n",
       "      <td>20</td>\n",
       "      <td>40</td>\n",
       "      <td>Mechanical</td>\n",
       "      <td>1654</td>\n",
       "    </tr>\n",
       "  </tbody>\n",
       "</table>\n",
       "<p>205715 rows × 10 columns</p>\n",
       "</div>"
      ],
      "text/plain": [
       "       report_date      time      day  route                    location  \\\n",
       "0       2017-01-01  00:42:00   Sunday     73         Albion / Claireport   \n",
       "1       2017-01-01  01:02:00   Sunday     75                 Elm / Glen    \n",
       "2       2017-01-01  01:20:00   Sunday    102              Warden Station   \n",
       "3       2017-01-01  01:22:00   Sunday    120        Northover / Sheppard   \n",
       "4       2017-01-01  01:30:00   Sunday     83            Donlands Station   \n",
       "...            ...       ...      ...    ...                         ...   \n",
       "205710  2019-12-31  22:45:00  Tuesday    927  Marton Grove / Steels Loop   \n",
       "205711  2019-12-31  22:50:00  Tuesday     34            Eglinton Station   \n",
       "205712  2019-12-31  23:02:00  Tuesday     95         Ellesmere / Markham   \n",
       "205713  2019-12-31  23:24:00  Tuesday     32                 Jane / Pine   \n",
       "205714  2019-12-31  23:31:00  Tuesday     39        Crow Trail / Neilson   \n",
       "\n",
       "       direction  min_delay  min_gap            incident  vehicle  \n",
       "0          South         20       20          Mechanical     8091  \n",
       "1          North         30       60  Emergency Services     1821  \n",
       "2        Unknown         10       20          Mechanical     8114  \n",
       "3           East         30       60          Mechanical     8548  \n",
       "4        Unknown         30       60          Mechanical     8127  \n",
       "...          ...        ...      ...                 ...      ...  \n",
       "205710     South         10       20          Mechanical     3560  \n",
       "205711      East         10       20          Mechanical     8685  \n",
       "205712      West         10       20          Mechanical     3404  \n",
       "205713      East         11       22          Mechanical     1120  \n",
       "205714      West         20       40          Mechanical     1654  \n",
       "\n",
       "[205715 rows x 10 columns]"
      ]
     },
     "execution_count": 74,
     "metadata": {},
     "output_type": "execute_result"
    }
   ],
   "source": [
    "bus_delay"
   ]
  },
  {
   "cell_type": "code",
   "execution_count": 75,
   "metadata": {},
   "outputs": [
    {
     "name": "stdout",
     "output_type": "stream",
     "text": [
      "report_date (1095,)\n",
      "time (1460,)\n",
      "day (7,)\n",
      "route (360,)\n",
      "location (35498,)\n",
      "direction (5,)\n",
      "min_delay (747,)\n",
      "min_gap (792,)\n",
      "incident (8,)\n",
      "vehicle (3251,)\n"
     ]
    },
    {
     "data": {
      "text/plain": [
       "[None, None, None, None, None, None, None, None, None, None]"
      ]
     },
     "execution_count": 75,
     "metadata": {},
     "output_type": "execute_result"
    }
   ],
   "source": [
    "#Checking all columns once again to ensure everything is clean\n",
    "[print(i,bus_delay[i].value_counts().shape) for i in bus_delay.columns]"
   ]
  },
  {
   "cell_type": "markdown",
   "metadata": {},
   "source": [
    "### Write cleaned data to a csv file"
   ]
  },
  {
   "cell_type": "code",
   "execution_count": 76,
   "metadata": {},
   "outputs": [],
   "source": [
    "#Export clean master data frame into a csv file\n",
    "bus_delay.to_csv('bus_delay_17-20.csv')"
   ]
  },
  {
   "cell_type": "code",
   "execution_count": null,
   "metadata": {},
   "outputs": [],
   "source": []
  },
  {
   "cell_type": "code",
   "execution_count": null,
   "metadata": {},
   "outputs": [],
   "source": []
  },
  {
   "cell_type": "code",
   "execution_count": null,
   "metadata": {},
   "outputs": [],
   "source": []
  }
 ],
 "metadata": {
  "kernelspec": {
   "display_name": "Python 3",
   "language": "python",
   "name": "python3"
  },
  "language_info": {
   "codemirror_mode": {
    "name": "ipython",
    "version": 3
   },
   "file_extension": ".py",
   "mimetype": "text/x-python",
   "name": "python",
   "nbconvert_exporter": "python",
   "pygments_lexer": "ipython3",
   "version": "3.7.6"
  }
 },
 "nbformat": 4,
 "nbformat_minor": 4
}
